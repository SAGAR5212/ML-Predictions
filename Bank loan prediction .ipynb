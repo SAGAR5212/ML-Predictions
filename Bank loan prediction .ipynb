{
 "cells": [
  {
   "cell_type": "code",
   "execution_count": 1,
   "id": "5534b6db",
   "metadata": {},
   "outputs": [],
   "source": [
    "#importing lybriers\n",
    "import pandas as pd\n",
    "import numpy as np"
   ]
  },
  {
   "cell_type": "code",
   "execution_count": 2,
   "id": "cc5e5eba",
   "metadata": {},
   "outputs": [],
   "source": [
    "path = r\"C:\\Users\\SAGAR\\Downloads\\credit_risk_dataset.csv\""
   ]
  },
  {
   "cell_type": "code",
   "execution_count": 3,
   "id": "88a5d402",
   "metadata": {},
   "outputs": [],
   "source": [
    "#reading of file\n",
    "bdf1=pd.read_csv(path)"
   ]
  },
  {
   "cell_type": "code",
   "execution_count": 4,
   "id": "68747e2f",
   "metadata": {},
   "outputs": [
    {
     "data": {
      "text/html": [
       "<div>\n",
       "<style scoped>\n",
       "    .dataframe tbody tr th:only-of-type {\n",
       "        vertical-align: middle;\n",
       "    }\n",
       "\n",
       "    .dataframe tbody tr th {\n",
       "        vertical-align: top;\n",
       "    }\n",
       "\n",
       "    .dataframe thead th {\n",
       "        text-align: right;\n",
       "    }\n",
       "</style>\n",
       "<table border=\"1\" class=\"dataframe\">\n",
       "  <thead>\n",
       "    <tr style=\"text-align: right;\">\n",
       "      <th></th>\n",
       "      <th>person_age</th>\n",
       "      <th>person_income</th>\n",
       "      <th>person_home_ownership</th>\n",
       "      <th>person_emp_length</th>\n",
       "      <th>loan_intent</th>\n",
       "      <th>loan_grade</th>\n",
       "      <th>loan_amnt</th>\n",
       "      <th>loan_int_rate</th>\n",
       "      <th>loan_status</th>\n",
       "      <th>loan_percent_income</th>\n",
       "      <th>cb_person_default_on_file</th>\n",
       "      <th>cb_person_cred_hist_length</th>\n",
       "    </tr>\n",
       "  </thead>\n",
       "  <tbody>\n",
       "    <tr>\n",
       "      <th>0</th>\n",
       "      <td>22</td>\n",
       "      <td>59000</td>\n",
       "      <td>RENT</td>\n",
       "      <td>123.0</td>\n",
       "      <td>PERSONAL</td>\n",
       "      <td>D</td>\n",
       "      <td>35000</td>\n",
       "      <td>16.02</td>\n",
       "      <td>1</td>\n",
       "      <td>0.59</td>\n",
       "      <td>Y</td>\n",
       "      <td>3</td>\n",
       "    </tr>\n",
       "    <tr>\n",
       "      <th>1</th>\n",
       "      <td>21</td>\n",
       "      <td>9600</td>\n",
       "      <td>OWN</td>\n",
       "      <td>5.0</td>\n",
       "      <td>EDUCATION</td>\n",
       "      <td>B</td>\n",
       "      <td>1000</td>\n",
       "      <td>11.14</td>\n",
       "      <td>0</td>\n",
       "      <td>0.10</td>\n",
       "      <td>N</td>\n",
       "      <td>2</td>\n",
       "    </tr>\n",
       "    <tr>\n",
       "      <th>2</th>\n",
       "      <td>25</td>\n",
       "      <td>9600</td>\n",
       "      <td>MORTGAGE</td>\n",
       "      <td>1.0</td>\n",
       "      <td>MEDICAL</td>\n",
       "      <td>C</td>\n",
       "      <td>5500</td>\n",
       "      <td>12.87</td>\n",
       "      <td>1</td>\n",
       "      <td>0.57</td>\n",
       "      <td>N</td>\n",
       "      <td>3</td>\n",
       "    </tr>\n",
       "    <tr>\n",
       "      <th>3</th>\n",
       "      <td>23</td>\n",
       "      <td>65500</td>\n",
       "      <td>RENT</td>\n",
       "      <td>4.0</td>\n",
       "      <td>MEDICAL</td>\n",
       "      <td>C</td>\n",
       "      <td>35000</td>\n",
       "      <td>15.23</td>\n",
       "      <td>1</td>\n",
       "      <td>0.53</td>\n",
       "      <td>N</td>\n",
       "      <td>2</td>\n",
       "    </tr>\n",
       "    <tr>\n",
       "      <th>4</th>\n",
       "      <td>24</td>\n",
       "      <td>54400</td>\n",
       "      <td>RENT</td>\n",
       "      <td>8.0</td>\n",
       "      <td>MEDICAL</td>\n",
       "      <td>C</td>\n",
       "      <td>35000</td>\n",
       "      <td>14.27</td>\n",
       "      <td>1</td>\n",
       "      <td>0.55</td>\n",
       "      <td>Y</td>\n",
       "      <td>4</td>\n",
       "    </tr>\n",
       "  </tbody>\n",
       "</table>\n",
       "</div>"
      ],
      "text/plain": [
       "   person_age  person_income person_home_ownership  person_emp_length  \\\n",
       "0          22          59000                  RENT              123.0   \n",
       "1          21           9600                   OWN                5.0   \n",
       "2          25           9600              MORTGAGE                1.0   \n",
       "3          23          65500                  RENT                4.0   \n",
       "4          24          54400                  RENT                8.0   \n",
       "\n",
       "  loan_intent loan_grade  loan_amnt  loan_int_rate  loan_status  \\\n",
       "0    PERSONAL          D      35000          16.02            1   \n",
       "1   EDUCATION          B       1000          11.14            0   \n",
       "2     MEDICAL          C       5500          12.87            1   \n",
       "3     MEDICAL          C      35000          15.23            1   \n",
       "4     MEDICAL          C      35000          14.27            1   \n",
       "\n",
       "   loan_percent_income cb_person_default_on_file  cb_person_cred_hist_length  \n",
       "0                 0.59                         Y                           3  \n",
       "1                 0.10                         N                           2  \n",
       "2                 0.57                         N                           3  \n",
       "3                 0.53                         N                           2  \n",
       "4                 0.55                         Y                           4  "
      ]
     },
     "execution_count": 4,
     "metadata": {},
     "output_type": "execute_result"
    }
   ],
   "source": [
    "bdf1.head()"
   ]
  },
  {
   "cell_type": "code",
   "execution_count": 5,
   "id": "7257776a",
   "metadata": {},
   "outputs": [
    {
     "data": {
      "text/plain": [
       "person_age                       0\n",
       "person_income                    0\n",
       "person_home_ownership            0\n",
       "person_emp_length              895\n",
       "loan_intent                      0\n",
       "loan_grade                       0\n",
       "loan_amnt                        0\n",
       "loan_int_rate                 3116\n",
       "loan_status                      0\n",
       "loan_percent_income              0\n",
       "cb_person_default_on_file        0\n",
       "cb_person_cred_hist_length       0\n",
       "dtype: int64"
      ]
     },
     "execution_count": 5,
     "metadata": {},
     "output_type": "execute_result"
    }
   ],
   "source": [
    "#finding of null values\n",
    "bdf1.isna().sum()"
   ]
  },
  {
   "cell_type": "code",
   "execution_count": 6,
   "id": "be605c6a",
   "metadata": {},
   "outputs": [],
   "source": [
    "#droping of null values\n",
    "bdf=bdf1.dropna()"
   ]
  },
  {
   "cell_type": "code",
   "execution_count": 7,
   "id": "69e3ab00",
   "metadata": {},
   "outputs": [
    {
     "data": {
      "text/plain": [
       "person_age                    0\n",
       "person_income                 0\n",
       "person_home_ownership         0\n",
       "person_emp_length             0\n",
       "loan_intent                   0\n",
       "loan_grade                    0\n",
       "loan_amnt                     0\n",
       "loan_int_rate                 0\n",
       "loan_status                   0\n",
       "loan_percent_income           0\n",
       "cb_person_default_on_file     0\n",
       "cb_person_cred_hist_length    0\n",
       "dtype: int64"
      ]
     },
     "execution_count": 7,
     "metadata": {},
     "output_type": "execute_result"
    }
   ],
   "source": [
    "bdf.isna().sum()"
   ]
  },
  {
   "cell_type": "code",
   "execution_count": 61,
   "id": "7e1669b6",
   "metadata": {},
   "outputs": [],
   "source": [
    "##spliting of data into x & y (input & output)\n",
    "y=bdf['loan_status']\n",
    "X=bdf[['person_age','person_income','person_home_ownership','person_emp_length','loan_intent','loan_grade','loan_amnt','loan_int_rate','loan_percent_income','cb_person_default_on_file','cb_person_cred_hist_length']]"
   ]
  },
  {
   "cell_type": "code",
   "execution_count": 62,
   "id": "a72a5774",
   "metadata": {},
   "outputs": [
    {
     "data": {
      "text/plain": [
       "0    1\n",
       "1    0\n",
       "2    1\n",
       "3    1\n",
       "4    1\n",
       "Name: loan_status, dtype: int64"
      ]
     },
     "execution_count": 62,
     "metadata": {},
     "output_type": "execute_result"
    }
   ],
   "source": [
    "y.head()"
   ]
  },
  {
   "cell_type": "code",
   "execution_count": 63,
   "id": "2c785473",
   "metadata": {},
   "outputs": [
    {
     "data": {
      "text/html": [
       "<div>\n",
       "<style scoped>\n",
       "    .dataframe tbody tr th:only-of-type {\n",
       "        vertical-align: middle;\n",
       "    }\n",
       "\n",
       "    .dataframe tbody tr th {\n",
       "        vertical-align: top;\n",
       "    }\n",
       "\n",
       "    .dataframe thead th {\n",
       "        text-align: right;\n",
       "    }\n",
       "</style>\n",
       "<table border=\"1\" class=\"dataframe\">\n",
       "  <thead>\n",
       "    <tr style=\"text-align: right;\">\n",
       "      <th></th>\n",
       "      <th>person_age</th>\n",
       "      <th>person_income</th>\n",
       "      <th>person_home_ownership</th>\n",
       "      <th>person_emp_length</th>\n",
       "      <th>loan_intent</th>\n",
       "      <th>loan_grade</th>\n",
       "      <th>loan_amnt</th>\n",
       "      <th>loan_int_rate</th>\n",
       "      <th>loan_percent_income</th>\n",
       "      <th>cb_person_default_on_file</th>\n",
       "      <th>cb_person_cred_hist_length</th>\n",
       "    </tr>\n",
       "  </thead>\n",
       "  <tbody>\n",
       "    <tr>\n",
       "      <th>0</th>\n",
       "      <td>22</td>\n",
       "      <td>59000</td>\n",
       "      <td>RENT</td>\n",
       "      <td>123.0</td>\n",
       "      <td>PERSONAL</td>\n",
       "      <td>D</td>\n",
       "      <td>35000</td>\n",
       "      <td>16.02</td>\n",
       "      <td>0.59</td>\n",
       "      <td>Y</td>\n",
       "      <td>3</td>\n",
       "    </tr>\n",
       "    <tr>\n",
       "      <th>1</th>\n",
       "      <td>21</td>\n",
       "      <td>9600</td>\n",
       "      <td>OWN</td>\n",
       "      <td>5.0</td>\n",
       "      <td>EDUCATION</td>\n",
       "      <td>B</td>\n",
       "      <td>1000</td>\n",
       "      <td>11.14</td>\n",
       "      <td>0.10</td>\n",
       "      <td>N</td>\n",
       "      <td>2</td>\n",
       "    </tr>\n",
       "    <tr>\n",
       "      <th>2</th>\n",
       "      <td>25</td>\n",
       "      <td>9600</td>\n",
       "      <td>MORTGAGE</td>\n",
       "      <td>1.0</td>\n",
       "      <td>MEDICAL</td>\n",
       "      <td>C</td>\n",
       "      <td>5500</td>\n",
       "      <td>12.87</td>\n",
       "      <td>0.57</td>\n",
       "      <td>N</td>\n",
       "      <td>3</td>\n",
       "    </tr>\n",
       "    <tr>\n",
       "      <th>3</th>\n",
       "      <td>23</td>\n",
       "      <td>65500</td>\n",
       "      <td>RENT</td>\n",
       "      <td>4.0</td>\n",
       "      <td>MEDICAL</td>\n",
       "      <td>C</td>\n",
       "      <td>35000</td>\n",
       "      <td>15.23</td>\n",
       "      <td>0.53</td>\n",
       "      <td>N</td>\n",
       "      <td>2</td>\n",
       "    </tr>\n",
       "    <tr>\n",
       "      <th>4</th>\n",
       "      <td>24</td>\n",
       "      <td>54400</td>\n",
       "      <td>RENT</td>\n",
       "      <td>8.0</td>\n",
       "      <td>MEDICAL</td>\n",
       "      <td>C</td>\n",
       "      <td>35000</td>\n",
       "      <td>14.27</td>\n",
       "      <td>0.55</td>\n",
       "      <td>Y</td>\n",
       "      <td>4</td>\n",
       "    </tr>\n",
       "  </tbody>\n",
       "</table>\n",
       "</div>"
      ],
      "text/plain": [
       "   person_age  person_income person_home_ownership  person_emp_length  \\\n",
       "0          22          59000                  RENT              123.0   \n",
       "1          21           9600                   OWN                5.0   \n",
       "2          25           9600              MORTGAGE                1.0   \n",
       "3          23          65500                  RENT                4.0   \n",
       "4          24          54400                  RENT                8.0   \n",
       "\n",
       "  loan_intent loan_grade  loan_amnt  loan_int_rate  loan_percent_income  \\\n",
       "0    PERSONAL          D      35000          16.02                 0.59   \n",
       "1   EDUCATION          B       1000          11.14                 0.10   \n",
       "2     MEDICAL          C       5500          12.87                 0.57   \n",
       "3     MEDICAL          C      35000          15.23                 0.53   \n",
       "4     MEDICAL          C      35000          14.27                 0.55   \n",
       "\n",
       "  cb_person_default_on_file  cb_person_cred_hist_length  \n",
       "0                         Y                           3  \n",
       "1                         N                           2  \n",
       "2                         N                           3  \n",
       "3                         N                           2  \n",
       "4                         Y                           4  "
      ]
     },
     "execution_count": 63,
     "metadata": {},
     "output_type": "execute_result"
    }
   ],
   "source": [
    "X.head()"
   ]
  },
  {
   "cell_type": "markdown",
   "id": "be1fcbd2",
   "metadata": {},
   "source": [
    "## Spliting the data into train and test"
   ]
  },
  {
   "cell_type": "code",
   "execution_count": 64,
   "id": "8b69c0c2",
   "metadata": {},
   "outputs": [
    {
     "name": "stdout",
     "output_type": "stream",
     "text": [
      "(21478, 11) (21478,)\n",
      "(7160, 11) (7160,)\n"
     ]
    }
   ],
   "source": [
    "#importing of model selection and spliting of train test \n",
    "from sklearn.model_selection import train_test_split\n",
    "X_train, X_test, y_train, y_test = train_test_split(X,y,train_size = 0.75,random_state=0)\n",
    "print(X_train.shape,y_train.shape)\n",
    "print(X_test.shape,y_test.shape)"
   ]
  },
  {
   "cell_type": "code",
   "execution_count": 65,
   "id": "5086378c",
   "metadata": {},
   "outputs": [
    {
     "name": "stdout",
     "output_type": "stream",
     "text": [
      "<class 'pandas.core.frame.DataFrame'>\n",
      "Int64Index: 28638 entries, 0 to 32580\n",
      "Data columns (total 11 columns):\n",
      " #   Column                      Non-Null Count  Dtype  \n",
      "---  ------                      --------------  -----  \n",
      " 0   person_age                  28638 non-null  int64  \n",
      " 1   person_income               28638 non-null  int64  \n",
      " 2   person_home_ownership       28638 non-null  object \n",
      " 3   person_emp_length           28638 non-null  float64\n",
      " 4   loan_intent                 28638 non-null  object \n",
      " 5   loan_grade                  28638 non-null  object \n",
      " 6   loan_amnt                   28638 non-null  int64  \n",
      " 7   loan_int_rate               28638 non-null  float64\n",
      " 8   loan_percent_income         28638 non-null  float64\n",
      " 9   cb_person_default_on_file   28638 non-null  object \n",
      " 10  cb_person_cred_hist_length  28638 non-null  int64  \n",
      "dtypes: float64(3), int64(4), object(4)\n",
      "memory usage: 2.6+ MB\n"
     ]
    }
   ],
   "source": [
    "X.info()"
   ]
  },
  {
   "cell_type": "markdown",
   "id": "e4512a49",
   "metadata": {},
   "source": [
    "## Data preprocessing"
   ]
  },
  {
   "cell_type": "code",
   "execution_count": 66,
   "id": "50d2cba1",
   "metadata": {},
   "outputs": [
    {
     "data": {
      "text/html": [
       "<div>\n",
       "<style scoped>\n",
       "    .dataframe tbody tr th:only-of-type {\n",
       "        vertical-align: middle;\n",
       "    }\n",
       "\n",
       "    .dataframe tbody tr th {\n",
       "        vertical-align: top;\n",
       "    }\n",
       "\n",
       "    .dataframe thead th {\n",
       "        text-align: right;\n",
       "    }\n",
       "</style>\n",
       "<table border=\"1\" class=\"dataframe\">\n",
       "  <thead>\n",
       "    <tr style=\"text-align: right;\">\n",
       "      <th></th>\n",
       "      <th>person_age</th>\n",
       "      <th>person_income</th>\n",
       "      <th>person_emp_length</th>\n",
       "      <th>loan_amnt</th>\n",
       "      <th>loan_int_rate</th>\n",
       "      <th>loan_percent_income</th>\n",
       "      <th>cb_person_cred_hist_length</th>\n",
       "    </tr>\n",
       "  </thead>\n",
       "  <tbody>\n",
       "    <tr>\n",
       "      <th>4409</th>\n",
       "      <td>24</td>\n",
       "      <td>40000</td>\n",
       "      <td>6.0</td>\n",
       "      <td>5000</td>\n",
       "      <td>11.86</td>\n",
       "      <td>0.13</td>\n",
       "      <td>4</td>\n",
       "    </tr>\n",
       "    <tr>\n",
       "      <th>25144</th>\n",
       "      <td>28</td>\n",
       "      <td>38500</td>\n",
       "      <td>2.0</td>\n",
       "      <td>12000</td>\n",
       "      <td>10.75</td>\n",
       "      <td>0.31</td>\n",
       "      <td>5</td>\n",
       "    </tr>\n",
       "    <tr>\n",
       "      <th>15754</th>\n",
       "      <td>23</td>\n",
       "      <td>84000</td>\n",
       "      <td>3.0</td>\n",
       "      <td>15850</td>\n",
       "      <td>8.49</td>\n",
       "      <td>0.19</td>\n",
       "      <td>4</td>\n",
       "    </tr>\n",
       "    <tr>\n",
       "      <th>27013</th>\n",
       "      <td>29</td>\n",
       "      <td>120000</td>\n",
       "      <td>13.0</td>\n",
       "      <td>10000</td>\n",
       "      <td>6.17</td>\n",
       "      <td>0.08</td>\n",
       "      <td>8</td>\n",
       "    </tr>\n",
       "    <tr>\n",
       "      <th>16315</th>\n",
       "      <td>25</td>\n",
       "      <td>58650</td>\n",
       "      <td>4.0</td>\n",
       "      <td>20000</td>\n",
       "      <td>14.09</td>\n",
       "      <td>0.29</td>\n",
       "      <td>4</td>\n",
       "    </tr>\n",
       "  </tbody>\n",
       "</table>\n",
       "</div>"
      ],
      "text/plain": [
       "       person_age  person_income  person_emp_length  loan_amnt  loan_int_rate  \\\n",
       "4409           24          40000                6.0       5000          11.86   \n",
       "25144          28          38500                2.0      12000          10.75   \n",
       "15754          23          84000                3.0      15850           8.49   \n",
       "27013          29         120000               13.0      10000           6.17   \n",
       "16315          25          58650                4.0      20000          14.09   \n",
       "\n",
       "       loan_percent_income  cb_person_cred_hist_length  \n",
       "4409                  0.13                           4  \n",
       "25144                 0.31                           5  \n",
       "15754                 0.19                           4  \n",
       "27013                 0.08                           8  \n",
       "16315                 0.29                           4  "
      ]
     },
     "execution_count": 66,
     "metadata": {},
     "output_type": "execute_result"
    }
   ],
   "source": [
    "#spliting of numerical values from train data\n",
    "X_train_num = X_train.select_dtypes(include=['int64','float64'])\n",
    "X_train_num.head()"
   ]
  },
  {
   "cell_type": "code",
   "execution_count": 67,
   "id": "125d2257",
   "metadata": {},
   "outputs": [
    {
     "data": {
      "text/html": [
       "<div>\n",
       "<style scoped>\n",
       "    .dataframe tbody tr th:only-of-type {\n",
       "        vertical-align: middle;\n",
       "    }\n",
       "\n",
       "    .dataframe tbody tr th {\n",
       "        vertical-align: top;\n",
       "    }\n",
       "\n",
       "    .dataframe thead th {\n",
       "        text-align: right;\n",
       "    }\n",
       "</style>\n",
       "<table border=\"1\" class=\"dataframe\">\n",
       "  <thead>\n",
       "    <tr style=\"text-align: right;\">\n",
       "      <th></th>\n",
       "      <th>person_home_ownership</th>\n",
       "      <th>loan_intent</th>\n",
       "      <th>loan_grade</th>\n",
       "      <th>cb_person_default_on_file</th>\n",
       "    </tr>\n",
       "  </thead>\n",
       "  <tbody>\n",
       "    <tr>\n",
       "      <th>4409</th>\n",
       "      <td>OWN</td>\n",
       "      <td>MEDICAL</td>\n",
       "      <td>D</td>\n",
       "      <td>N</td>\n",
       "    </tr>\n",
       "    <tr>\n",
       "      <th>25144</th>\n",
       "      <td>RENT</td>\n",
       "      <td>PERSONAL</td>\n",
       "      <td>B</td>\n",
       "      <td>N</td>\n",
       "    </tr>\n",
       "    <tr>\n",
       "      <th>15754</th>\n",
       "      <td>RENT</td>\n",
       "      <td>MEDICAL</td>\n",
       "      <td>A</td>\n",
       "      <td>N</td>\n",
       "    </tr>\n",
       "    <tr>\n",
       "      <th>27013</th>\n",
       "      <td>MORTGAGE</td>\n",
       "      <td>VENTURE</td>\n",
       "      <td>A</td>\n",
       "      <td>N</td>\n",
       "    </tr>\n",
       "    <tr>\n",
       "      <th>16315</th>\n",
       "      <td>MORTGAGE</td>\n",
       "      <td>MEDICAL</td>\n",
       "      <td>D</td>\n",
       "      <td>Y</td>\n",
       "    </tr>\n",
       "  </tbody>\n",
       "</table>\n",
       "</div>"
      ],
      "text/plain": [
       "      person_home_ownership loan_intent loan_grade cb_person_default_on_file\n",
       "4409                    OWN     MEDICAL          D                         N\n",
       "25144                  RENT    PERSONAL          B                         N\n",
       "15754                  RENT     MEDICAL          A                         N\n",
       "27013              MORTGAGE     VENTURE          A                         N\n",
       "16315              MORTGAGE     MEDICAL          D                         Y"
      ]
     },
     "execution_count": 67,
     "metadata": {},
     "output_type": "execute_result"
    }
   ],
   "source": [
    "#spliting of catagorical data from train data\n",
    "X_train_cat = X_train.select_dtypes(include=['object'])\n",
    "X_train_cat.head()"
   ]
  },
  {
   "cell_type": "code",
   "execution_count": 68,
   "id": "bb9f7da9",
   "metadata": {},
   "outputs": [
    {
     "data": {
      "text/html": [
       "<div>\n",
       "<style scoped>\n",
       "    .dataframe tbody tr th:only-of-type {\n",
       "        vertical-align: middle;\n",
       "    }\n",
       "\n",
       "    .dataframe tbody tr th {\n",
       "        vertical-align: top;\n",
       "    }\n",
       "\n",
       "    .dataframe thead th {\n",
       "        text-align: right;\n",
       "    }\n",
       "</style>\n",
       "<table border=\"1\" class=\"dataframe\">\n",
       "  <thead>\n",
       "    <tr style=\"text-align: right;\">\n",
       "      <th></th>\n",
       "      <th>person_home_ownership</th>\n",
       "      <th>loan_intent</th>\n",
       "    </tr>\n",
       "  </thead>\n",
       "  <tbody>\n",
       "    <tr>\n",
       "      <th>4409</th>\n",
       "      <td>OWN</td>\n",
       "      <td>MEDICAL</td>\n",
       "    </tr>\n",
       "    <tr>\n",
       "      <th>25144</th>\n",
       "      <td>RENT</td>\n",
       "      <td>PERSONAL</td>\n",
       "    </tr>\n",
       "    <tr>\n",
       "      <th>15754</th>\n",
       "      <td>RENT</td>\n",
       "      <td>MEDICAL</td>\n",
       "    </tr>\n",
       "    <tr>\n",
       "      <th>27013</th>\n",
       "      <td>MORTGAGE</td>\n",
       "      <td>VENTURE</td>\n",
       "    </tr>\n",
       "    <tr>\n",
       "      <th>16315</th>\n",
       "      <td>MORTGAGE</td>\n",
       "      <td>MEDICAL</td>\n",
       "    </tr>\n",
       "  </tbody>\n",
       "</table>\n",
       "</div>"
      ],
      "text/plain": [
       "      person_home_ownership loan_intent\n",
       "4409                    OWN     MEDICAL\n",
       "25144                  RENT    PERSONAL\n",
       "15754                  RENT     MEDICAL\n",
       "27013              MORTGAGE     VENTURE\n",
       "16315              MORTGAGE     MEDICAL"
      ]
     },
     "execution_count": 68,
     "metadata": {},
     "output_type": "execute_result"
    }
   ],
   "source": [
    "#saparating of nomial data from train_catagorical data\n",
    "X_train_cat_no = X_train_cat[['person_home_ownership','loan_intent']]\n",
    "X_train_cat_no.head()"
   ]
  },
  {
   "cell_type": "code",
   "execution_count": 69,
   "id": "4d786d3d",
   "metadata": {},
   "outputs": [
    {
     "data": {
      "text/plain": [
       "4409     D\n",
       "25144    B\n",
       "15754    A\n",
       "27013    A\n",
       "16315    D\n",
       "Name: loan_grade, dtype: object"
      ]
     },
     "execution_count": 69,
     "metadata": {},
     "output_type": "execute_result"
    }
   ],
   "source": [
    "#saparating of odinal data from train_catagorical_data\n",
    "X_train_cat_od = X_train_cat['loan_grade']\n",
    "X_train_cat_od.head()"
   ]
  },
  {
   "cell_type": "code",
   "execution_count": 70,
   "id": "e95dcb51",
   "metadata": {},
   "outputs": [
    {
     "data": {
      "text/html": [
       "<div>\n",
       "<style scoped>\n",
       "    .dataframe tbody tr th:only-of-type {\n",
       "        vertical-align: middle;\n",
       "    }\n",
       "\n",
       "    .dataframe tbody tr th {\n",
       "        vertical-align: top;\n",
       "    }\n",
       "\n",
       "    .dataframe thead th {\n",
       "        text-align: right;\n",
       "    }\n",
       "</style>\n",
       "<table border=\"1\" class=\"dataframe\">\n",
       "  <thead>\n",
       "    <tr style=\"text-align: right;\">\n",
       "      <th></th>\n",
       "      <th>person_age</th>\n",
       "      <th>person_income</th>\n",
       "      <th>person_emp_length</th>\n",
       "      <th>loan_amnt</th>\n",
       "      <th>loan_int_rate</th>\n",
       "      <th>loan_percent_income</th>\n",
       "      <th>cb_person_cred_hist_length</th>\n",
       "    </tr>\n",
       "  </thead>\n",
       "  <tbody>\n",
       "    <tr>\n",
       "      <th>4409</th>\n",
       "      <td>-0.587482</td>\n",
       "      <td>-0.421354</td>\n",
       "      <td>0.285262</td>\n",
       "      <td>-0.735384</td>\n",
       "      <td>0.251728</td>\n",
       "      <td>-0.368081</td>\n",
       "      <td>-0.436882</td>\n",
       "    </tr>\n",
       "    <tr>\n",
       "      <th>25144</th>\n",
       "      <td>0.050892</td>\n",
       "      <td>-0.445044</td>\n",
       "      <td>-0.671125</td>\n",
       "      <td>0.370084</td>\n",
       "      <td>-0.091339</td>\n",
       "      <td>1.328874</td>\n",
       "      <td>-0.188612</td>\n",
       "    </tr>\n",
       "    <tr>\n",
       "      <th>15754</th>\n",
       "      <td>-0.747075</td>\n",
       "      <td>0.273556</td>\n",
       "      <td>-0.432029</td>\n",
       "      <td>0.978092</td>\n",
       "      <td>-0.789836</td>\n",
       "      <td>0.197571</td>\n",
       "      <td>-0.436882</td>\n",
       "    </tr>\n",
       "    <tr>\n",
       "      <th>27013</th>\n",
       "      <td>0.210485</td>\n",
       "      <td>0.842119</td>\n",
       "      <td>1.958940</td>\n",
       "      <td>0.054236</td>\n",
       "      <td>-1.506878</td>\n",
       "      <td>-0.839457</td>\n",
       "      <td>0.556197</td>\n",
       "    </tr>\n",
       "    <tr>\n",
       "      <th>16315</th>\n",
       "      <td>-0.427888</td>\n",
       "      <td>-0.126807</td>\n",
       "      <td>-0.192932</td>\n",
       "      <td>1.633477</td>\n",
       "      <td>0.940953</td>\n",
       "      <td>1.140323</td>\n",
       "      <td>-0.436882</td>\n",
       "    </tr>\n",
       "  </tbody>\n",
       "</table>\n",
       "</div>"
      ],
      "text/plain": [
       "       person_age  person_income  person_emp_length  loan_amnt  loan_int_rate  \\\n",
       "4409    -0.587482      -0.421354           0.285262  -0.735384       0.251728   \n",
       "25144    0.050892      -0.445044          -0.671125   0.370084      -0.091339   \n",
       "15754   -0.747075       0.273556          -0.432029   0.978092      -0.789836   \n",
       "27013    0.210485       0.842119           1.958940   0.054236      -1.506878   \n",
       "16315   -0.427888      -0.126807          -0.192932   1.633477       0.940953   \n",
       "\n",
       "       loan_percent_income  cb_person_cred_hist_length  \n",
       "4409             -0.368081                   -0.436882  \n",
       "25144             1.328874                   -0.188612  \n",
       "15754             0.197571                   -0.436882  \n",
       "27013            -0.839457                    0.556197  \n",
       "16315             1.140323                   -0.436882  "
      ]
     },
     "execution_count": 70,
     "metadata": {},
     "output_type": "execute_result"
    }
   ],
   "source": [
    "#applying of standardscaler on numerical data\n",
    "from sklearn.preprocessing import StandardScaler  # importing of standardscaler from sklearn.preprocessing\n",
    "scaler = StandardScaler()\n",
    "X_train_num_transformed = pd.DataFrame(scaler.fit_transform(X_train_num), # transforming of numerical data and creating of dataframe for transformed data\n",
    "                                       columns= X_train_num.columns,\n",
    "                                       index=X_train_num.index)\n",
    "X_train_num_transformed.head()"
   ]
  },
  {
   "cell_type": "code",
   "execution_count": 71,
   "id": "511f7c4d",
   "metadata": {},
   "outputs": [
    {
     "data": {
      "text/html": [
       "<div>\n",
       "<style scoped>\n",
       "    .dataframe tbody tr th:only-of-type {\n",
       "        vertical-align: middle;\n",
       "    }\n",
       "\n",
       "    .dataframe tbody tr th {\n",
       "        vertical-align: top;\n",
       "    }\n",
       "\n",
       "    .dataframe thead th {\n",
       "        text-align: right;\n",
       "    }\n",
       "</style>\n",
       "<table border=\"1\" class=\"dataframe\">\n",
       "  <thead>\n",
       "    <tr style=\"text-align: right;\">\n",
       "      <th></th>\n",
       "      <th>person_home_ownership_OTHER</th>\n",
       "      <th>person_home_ownership_OWN</th>\n",
       "      <th>person_home_ownership_RENT</th>\n",
       "      <th>loan_intent_EDUCATION</th>\n",
       "      <th>loan_intent_HOMEIMPROVEMENT</th>\n",
       "      <th>loan_intent_MEDICAL</th>\n",
       "      <th>loan_intent_PERSONAL</th>\n",
       "      <th>loan_intent_VENTURE</th>\n",
       "    </tr>\n",
       "  </thead>\n",
       "  <tbody>\n",
       "    <tr>\n",
       "      <th>4409</th>\n",
       "      <td>0.0</td>\n",
       "      <td>1.0</td>\n",
       "      <td>0.0</td>\n",
       "      <td>0.0</td>\n",
       "      <td>0.0</td>\n",
       "      <td>1.0</td>\n",
       "      <td>0.0</td>\n",
       "      <td>0.0</td>\n",
       "    </tr>\n",
       "    <tr>\n",
       "      <th>25144</th>\n",
       "      <td>0.0</td>\n",
       "      <td>0.0</td>\n",
       "      <td>1.0</td>\n",
       "      <td>0.0</td>\n",
       "      <td>0.0</td>\n",
       "      <td>0.0</td>\n",
       "      <td>1.0</td>\n",
       "      <td>0.0</td>\n",
       "    </tr>\n",
       "    <tr>\n",
       "      <th>15754</th>\n",
       "      <td>0.0</td>\n",
       "      <td>0.0</td>\n",
       "      <td>1.0</td>\n",
       "      <td>0.0</td>\n",
       "      <td>0.0</td>\n",
       "      <td>1.0</td>\n",
       "      <td>0.0</td>\n",
       "      <td>0.0</td>\n",
       "    </tr>\n",
       "    <tr>\n",
       "      <th>27013</th>\n",
       "      <td>0.0</td>\n",
       "      <td>0.0</td>\n",
       "      <td>0.0</td>\n",
       "      <td>0.0</td>\n",
       "      <td>0.0</td>\n",
       "      <td>0.0</td>\n",
       "      <td>0.0</td>\n",
       "      <td>1.0</td>\n",
       "    </tr>\n",
       "    <tr>\n",
       "      <th>16315</th>\n",
       "      <td>0.0</td>\n",
       "      <td>0.0</td>\n",
       "      <td>0.0</td>\n",
       "      <td>0.0</td>\n",
       "      <td>0.0</td>\n",
       "      <td>1.0</td>\n",
       "      <td>0.0</td>\n",
       "      <td>0.0</td>\n",
       "    </tr>\n",
       "  </tbody>\n",
       "</table>\n",
       "</div>"
      ],
      "text/plain": [
       "       person_home_ownership_OTHER  person_home_ownership_OWN  \\\n",
       "4409                           0.0                        1.0   \n",
       "25144                          0.0                        0.0   \n",
       "15754                          0.0                        0.0   \n",
       "27013                          0.0                        0.0   \n",
       "16315                          0.0                        0.0   \n",
       "\n",
       "       person_home_ownership_RENT  loan_intent_EDUCATION  \\\n",
       "4409                          0.0                    0.0   \n",
       "25144                         1.0                    0.0   \n",
       "15754                         1.0                    0.0   \n",
       "27013                         0.0                    0.0   \n",
       "16315                         0.0                    0.0   \n",
       "\n",
       "       loan_intent_HOMEIMPROVEMENT  loan_intent_MEDICAL  loan_intent_PERSONAL  \\\n",
       "4409                           0.0                  1.0                   0.0   \n",
       "25144                          0.0                  0.0                   1.0   \n",
       "15754                          0.0                  1.0                   0.0   \n",
       "27013                          0.0                  0.0                   0.0   \n",
       "16315                          0.0                  1.0                   0.0   \n",
       "\n",
       "       loan_intent_VENTURE  \n",
       "4409                   0.0  \n",
       "25144                  0.0  \n",
       "15754                  0.0  \n",
       "27013                  1.0  \n",
       "16315                  0.0  "
      ]
     },
     "execution_count": 71,
     "metadata": {},
     "output_type": "execute_result"
    }
   ],
   "source": [
    "from sklearn.preprocessing import OneHotEncoder # importing of OneHotEncoder\n",
    "encoder = OneHotEncoder(drop='first',sparse=False)\n",
    "X_train_cat_nom = pd.DataFrame(encoder.fit_transform(X_train_cat_no),\n",
    "                               columns = encoder.get_feature_names_out(X_train_cat_no.columns),\n",
    "                               index = X_train_cat_no.index) #transforming of catagorical data and creating of dataframe for transformed data\n",
    "X_train_cat_nom.head()"
   ]
  },
  {
   "cell_type": "code",
   "execution_count": 72,
   "id": "a6c5a8af",
   "metadata": {},
   "outputs": [
    {
     "data": {
      "text/plain": [
       "array(['D', 'B', 'A', 'C', 'E', 'F', 'G'], dtype=object)"
      ]
     },
     "execution_count": 72,
     "metadata": {},
     "output_type": "execute_result"
    }
   ],
   "source": [
    "#unique values in train_catagorical in odinal data\n",
    "X_train_cat_od.unique()"
   ]
  },
  {
   "cell_type": "code",
   "execution_count": 73,
   "id": "5235a218",
   "metadata": {},
   "outputs": [
    {
     "data": {
      "text/html": [
       "<div>\n",
       "<style scoped>\n",
       "    .dataframe tbody tr th:only-of-type {\n",
       "        vertical-align: middle;\n",
       "    }\n",
       "\n",
       "    .dataframe tbody tr th {\n",
       "        vertical-align: top;\n",
       "    }\n",
       "\n",
       "    .dataframe thead th {\n",
       "        text-align: right;\n",
       "    }\n",
       "</style>\n",
       "<table border=\"1\" class=\"dataframe\">\n",
       "  <thead>\n",
       "    <tr style=\"text-align: right;\">\n",
       "      <th></th>\n",
       "    </tr>\n",
       "  </thead>\n",
       "  <tbody>\n",
       "    <tr>\n",
       "      <th>4409</th>\n",
       "    </tr>\n",
       "    <tr>\n",
       "      <th>25144</th>\n",
       "    </tr>\n",
       "    <tr>\n",
       "      <th>15754</th>\n",
       "    </tr>\n",
       "    <tr>\n",
       "      <th>27013</th>\n",
       "    </tr>\n",
       "    <tr>\n",
       "      <th>16315</th>\n",
       "    </tr>\n",
       "  </tbody>\n",
       "</table>\n",
       "</div>"
      ],
      "text/plain": [
       "Empty DataFrame\n",
       "Columns: []\n",
       "Index: [4409, 25144, 15754, 27013, 16315]"
      ]
     },
     "execution_count": 73,
     "metadata": {},
     "output_type": "execute_result"
    }
   ],
   "source": [
    "#creating dataframe for index values\n",
    "X_train_cat_od = pd.DataFrame(index = X_train_cat.index)\n",
    "X_train_cat_od.head()"
   ]
  },
  {
   "cell_type": "code",
   "execution_count": 74,
   "id": "d72476bc",
   "metadata": {},
   "outputs": [
    {
     "data": {
      "text/plain": [
       "4409     4\n",
       "25144    6\n",
       "15754    7\n",
       "27013    7\n",
       "16315    4\n",
       "Name: loan_grade, dtype: int64"
      ]
     },
     "execution_count": 74,
     "metadata": {},
     "output_type": "execute_result"
    }
   ],
   "source": [
    "#applying of label encoding \n",
    "clarity_encoder = {'A':7,'B':6,'C':5,'D':4,'E':3,'F':2,'G':1}\n",
    "X_train_cat_od = X_train['loan_grade'].apply (lambda x: clarity_encoder[x])\n",
    "X_train_cat_od.head()"
   ]
  },
  {
   "cell_type": "code",
   "execution_count": 75,
   "id": "2ec00e37",
   "metadata": {},
   "outputs": [
    {
     "data": {
      "text/html": [
       "<div>\n",
       "<style scoped>\n",
       "    .dataframe tbody tr th:only-of-type {\n",
       "        vertical-align: middle;\n",
       "    }\n",
       "\n",
       "    .dataframe tbody tr th {\n",
       "        vertical-align: top;\n",
       "    }\n",
       "\n",
       "    .dataframe thead th {\n",
       "        text-align: right;\n",
       "    }\n",
       "</style>\n",
       "<table border=\"1\" class=\"dataframe\">\n",
       "  <thead>\n",
       "    <tr style=\"text-align: right;\">\n",
       "      <th></th>\n",
       "      <th>person_home_ownership_OTHER</th>\n",
       "      <th>person_home_ownership_OWN</th>\n",
       "      <th>person_home_ownership_RENT</th>\n",
       "      <th>loan_intent_EDUCATION</th>\n",
       "      <th>loan_intent_HOMEIMPROVEMENT</th>\n",
       "      <th>loan_intent_MEDICAL</th>\n",
       "      <th>loan_intent_PERSONAL</th>\n",
       "      <th>loan_intent_VENTURE</th>\n",
       "      <th>loan_grade</th>\n",
       "    </tr>\n",
       "  </thead>\n",
       "  <tbody>\n",
       "    <tr>\n",
       "      <th>4409</th>\n",
       "      <td>0.0</td>\n",
       "      <td>1.0</td>\n",
       "      <td>0.0</td>\n",
       "      <td>0.0</td>\n",
       "      <td>0.0</td>\n",
       "      <td>1.0</td>\n",
       "      <td>0.0</td>\n",
       "      <td>0.0</td>\n",
       "      <td>4</td>\n",
       "    </tr>\n",
       "    <tr>\n",
       "      <th>25144</th>\n",
       "      <td>0.0</td>\n",
       "      <td>0.0</td>\n",
       "      <td>1.0</td>\n",
       "      <td>0.0</td>\n",
       "      <td>0.0</td>\n",
       "      <td>0.0</td>\n",
       "      <td>1.0</td>\n",
       "      <td>0.0</td>\n",
       "      <td>6</td>\n",
       "    </tr>\n",
       "    <tr>\n",
       "      <th>15754</th>\n",
       "      <td>0.0</td>\n",
       "      <td>0.0</td>\n",
       "      <td>1.0</td>\n",
       "      <td>0.0</td>\n",
       "      <td>0.0</td>\n",
       "      <td>1.0</td>\n",
       "      <td>0.0</td>\n",
       "      <td>0.0</td>\n",
       "      <td>7</td>\n",
       "    </tr>\n",
       "    <tr>\n",
       "      <th>27013</th>\n",
       "      <td>0.0</td>\n",
       "      <td>0.0</td>\n",
       "      <td>0.0</td>\n",
       "      <td>0.0</td>\n",
       "      <td>0.0</td>\n",
       "      <td>0.0</td>\n",
       "      <td>0.0</td>\n",
       "      <td>1.0</td>\n",
       "      <td>7</td>\n",
       "    </tr>\n",
       "    <tr>\n",
       "      <th>16315</th>\n",
       "      <td>0.0</td>\n",
       "      <td>0.0</td>\n",
       "      <td>0.0</td>\n",
       "      <td>0.0</td>\n",
       "      <td>0.0</td>\n",
       "      <td>1.0</td>\n",
       "      <td>0.0</td>\n",
       "      <td>0.0</td>\n",
       "      <td>4</td>\n",
       "    </tr>\n",
       "  </tbody>\n",
       "</table>\n",
       "</div>"
      ],
      "text/plain": [
       "       person_home_ownership_OTHER  person_home_ownership_OWN  \\\n",
       "4409                           0.0                        1.0   \n",
       "25144                          0.0                        0.0   \n",
       "15754                          0.0                        0.0   \n",
       "27013                          0.0                        0.0   \n",
       "16315                          0.0                        0.0   \n",
       "\n",
       "       person_home_ownership_RENT  loan_intent_EDUCATION  \\\n",
       "4409                          0.0                    0.0   \n",
       "25144                         1.0                    0.0   \n",
       "15754                         1.0                    0.0   \n",
       "27013                         0.0                    0.0   \n",
       "16315                         0.0                    0.0   \n",
       "\n",
       "       loan_intent_HOMEIMPROVEMENT  loan_intent_MEDICAL  loan_intent_PERSONAL  \\\n",
       "4409                           0.0                  1.0                   0.0   \n",
       "25144                          0.0                  0.0                   1.0   \n",
       "15754                          0.0                  1.0                   0.0   \n",
       "27013                          0.0                  0.0                   0.0   \n",
       "16315                          0.0                  1.0                   0.0   \n",
       "\n",
       "       loan_intent_VENTURE  loan_grade  \n",
       "4409                   0.0           4  \n",
       "25144                  0.0           6  \n",
       "15754                  0.0           7  \n",
       "27013                  1.0           7  \n",
       "16315                  0.0           4  "
      ]
     },
     "execution_count": 75,
     "metadata": {},
     "output_type": "execute_result"
    }
   ],
   "source": [
    "#concating of x_train_cat_nominal and odinal\n",
    "X_train_cat_transformed = pd.concat([X_train_cat_nom,X_train_cat_od],axis=1)\n",
    "X_train_cat_transformed.head()"
   ]
  },
  {
   "cell_type": "code",
   "execution_count": 76,
   "id": "affc4d86",
   "metadata": {},
   "outputs": [
    {
     "data": {
      "text/html": [
       "<div>\n",
       "<style scoped>\n",
       "    .dataframe tbody tr th:only-of-type {\n",
       "        vertical-align: middle;\n",
       "    }\n",
       "\n",
       "    .dataframe tbody tr th {\n",
       "        vertical-align: top;\n",
       "    }\n",
       "\n",
       "    .dataframe thead th {\n",
       "        text-align: right;\n",
       "    }\n",
       "</style>\n",
       "<table border=\"1\" class=\"dataframe\">\n",
       "  <thead>\n",
       "    <tr style=\"text-align: right;\">\n",
       "      <th></th>\n",
       "      <th>person_age</th>\n",
       "      <th>person_income</th>\n",
       "      <th>person_emp_length</th>\n",
       "      <th>loan_amnt</th>\n",
       "      <th>loan_int_rate</th>\n",
       "      <th>loan_percent_income</th>\n",
       "      <th>cb_person_cred_hist_length</th>\n",
       "      <th>person_home_ownership_OTHER</th>\n",
       "      <th>person_home_ownership_OWN</th>\n",
       "      <th>person_home_ownership_RENT</th>\n",
       "      <th>loan_intent_EDUCATION</th>\n",
       "      <th>loan_intent_HOMEIMPROVEMENT</th>\n",
       "      <th>loan_intent_MEDICAL</th>\n",
       "      <th>loan_intent_PERSONAL</th>\n",
       "      <th>loan_intent_VENTURE</th>\n",
       "      <th>loan_grade</th>\n",
       "    </tr>\n",
       "  </thead>\n",
       "  <tbody>\n",
       "    <tr>\n",
       "      <th>4409</th>\n",
       "      <td>-0.587482</td>\n",
       "      <td>-0.421354</td>\n",
       "      <td>0.285262</td>\n",
       "      <td>-0.735384</td>\n",
       "      <td>0.251728</td>\n",
       "      <td>-0.368081</td>\n",
       "      <td>-0.436882</td>\n",
       "      <td>0.0</td>\n",
       "      <td>1.0</td>\n",
       "      <td>0.0</td>\n",
       "      <td>0.0</td>\n",
       "      <td>0.0</td>\n",
       "      <td>1.0</td>\n",
       "      <td>0.0</td>\n",
       "      <td>0.0</td>\n",
       "      <td>4</td>\n",
       "    </tr>\n",
       "    <tr>\n",
       "      <th>25144</th>\n",
       "      <td>0.050892</td>\n",
       "      <td>-0.445044</td>\n",
       "      <td>-0.671125</td>\n",
       "      <td>0.370084</td>\n",
       "      <td>-0.091339</td>\n",
       "      <td>1.328874</td>\n",
       "      <td>-0.188612</td>\n",
       "      <td>0.0</td>\n",
       "      <td>0.0</td>\n",
       "      <td>1.0</td>\n",
       "      <td>0.0</td>\n",
       "      <td>0.0</td>\n",
       "      <td>0.0</td>\n",
       "      <td>1.0</td>\n",
       "      <td>0.0</td>\n",
       "      <td>6</td>\n",
       "    </tr>\n",
       "    <tr>\n",
       "      <th>15754</th>\n",
       "      <td>-0.747075</td>\n",
       "      <td>0.273556</td>\n",
       "      <td>-0.432029</td>\n",
       "      <td>0.978092</td>\n",
       "      <td>-0.789836</td>\n",
       "      <td>0.197571</td>\n",
       "      <td>-0.436882</td>\n",
       "      <td>0.0</td>\n",
       "      <td>0.0</td>\n",
       "      <td>1.0</td>\n",
       "      <td>0.0</td>\n",
       "      <td>0.0</td>\n",
       "      <td>1.0</td>\n",
       "      <td>0.0</td>\n",
       "      <td>0.0</td>\n",
       "      <td>7</td>\n",
       "    </tr>\n",
       "    <tr>\n",
       "      <th>27013</th>\n",
       "      <td>0.210485</td>\n",
       "      <td>0.842119</td>\n",
       "      <td>1.958940</td>\n",
       "      <td>0.054236</td>\n",
       "      <td>-1.506878</td>\n",
       "      <td>-0.839457</td>\n",
       "      <td>0.556197</td>\n",
       "      <td>0.0</td>\n",
       "      <td>0.0</td>\n",
       "      <td>0.0</td>\n",
       "      <td>0.0</td>\n",
       "      <td>0.0</td>\n",
       "      <td>0.0</td>\n",
       "      <td>0.0</td>\n",
       "      <td>1.0</td>\n",
       "      <td>7</td>\n",
       "    </tr>\n",
       "    <tr>\n",
       "      <th>16315</th>\n",
       "      <td>-0.427888</td>\n",
       "      <td>-0.126807</td>\n",
       "      <td>-0.192932</td>\n",
       "      <td>1.633477</td>\n",
       "      <td>0.940953</td>\n",
       "      <td>1.140323</td>\n",
       "      <td>-0.436882</td>\n",
       "      <td>0.0</td>\n",
       "      <td>0.0</td>\n",
       "      <td>0.0</td>\n",
       "      <td>0.0</td>\n",
       "      <td>0.0</td>\n",
       "      <td>1.0</td>\n",
       "      <td>0.0</td>\n",
       "      <td>0.0</td>\n",
       "      <td>4</td>\n",
       "    </tr>\n",
       "  </tbody>\n",
       "</table>\n",
       "</div>"
      ],
      "text/plain": [
       "       person_age  person_income  person_emp_length  loan_amnt  loan_int_rate  \\\n",
       "4409    -0.587482      -0.421354           0.285262  -0.735384       0.251728   \n",
       "25144    0.050892      -0.445044          -0.671125   0.370084      -0.091339   \n",
       "15754   -0.747075       0.273556          -0.432029   0.978092      -0.789836   \n",
       "27013    0.210485       0.842119           1.958940   0.054236      -1.506878   \n",
       "16315   -0.427888      -0.126807          -0.192932   1.633477       0.940953   \n",
       "\n",
       "       loan_percent_income  cb_person_cred_hist_length  \\\n",
       "4409             -0.368081                   -0.436882   \n",
       "25144             1.328874                   -0.188612   \n",
       "15754             0.197571                   -0.436882   \n",
       "27013            -0.839457                    0.556197   \n",
       "16315             1.140323                   -0.436882   \n",
       "\n",
       "       person_home_ownership_OTHER  person_home_ownership_OWN  \\\n",
       "4409                           0.0                        1.0   \n",
       "25144                          0.0                        0.0   \n",
       "15754                          0.0                        0.0   \n",
       "27013                          0.0                        0.0   \n",
       "16315                          0.0                        0.0   \n",
       "\n",
       "       person_home_ownership_RENT  loan_intent_EDUCATION  \\\n",
       "4409                          0.0                    0.0   \n",
       "25144                         1.0                    0.0   \n",
       "15754                         1.0                    0.0   \n",
       "27013                         0.0                    0.0   \n",
       "16315                         0.0                    0.0   \n",
       "\n",
       "       loan_intent_HOMEIMPROVEMENT  loan_intent_MEDICAL  loan_intent_PERSONAL  \\\n",
       "4409                           0.0                  1.0                   0.0   \n",
       "25144                          0.0                  0.0                   1.0   \n",
       "15754                          0.0                  1.0                   0.0   \n",
       "27013                          0.0                  0.0                   0.0   \n",
       "16315                          0.0                  1.0                   0.0   \n",
       "\n",
       "       loan_intent_VENTURE  loan_grade  \n",
       "4409                   0.0           4  \n",
       "25144                  0.0           6  \n",
       "15754                  0.0           7  \n",
       "27013                  1.0           7  \n",
       "16315                  0.0           4  "
      ]
     },
     "execution_count": 76,
     "metadata": {},
     "output_type": "execute_result"
    }
   ],
   "source": [
    "#concatinating of x_train_num_transform and x_train_cat_tannsform\n",
    "X_train_transformed = pd.concat([X_train_num_transformed,X_train_cat_transformed],axis=1)\n",
    "X_train_transformed.head()"
   ]
  },
  {
   "cell_type": "code",
   "execution_count": 77,
   "id": "15eaca9a",
   "metadata": {},
   "outputs": [
    {
     "data": {
      "text/html": [
       "<div>\n",
       "<style scoped>\n",
       "    .dataframe tbody tr th:only-of-type {\n",
       "        vertical-align: middle;\n",
       "    }\n",
       "\n",
       "    .dataframe tbody tr th {\n",
       "        vertical-align: top;\n",
       "    }\n",
       "\n",
       "    .dataframe thead th {\n",
       "        text-align: right;\n",
       "    }\n",
       "</style>\n",
       "<table border=\"1\" class=\"dataframe\">\n",
       "  <thead>\n",
       "    <tr style=\"text-align: right;\">\n",
       "      <th></th>\n",
       "      <th>person_age</th>\n",
       "      <th>person_income</th>\n",
       "      <th>person_emp_length</th>\n",
       "      <th>loan_amnt</th>\n",
       "      <th>loan_int_rate</th>\n",
       "      <th>loan_percent_income</th>\n",
       "      <th>cb_person_cred_hist_length</th>\n",
       "    </tr>\n",
       "  </thead>\n",
       "  <tbody>\n",
       "    <tr>\n",
       "      <th>16555</th>\n",
       "      <td>26</td>\n",
       "      <td>75000</td>\n",
       "      <td>9.0</td>\n",
       "      <td>4000</td>\n",
       "      <td>12.99</td>\n",
       "      <td>0.05</td>\n",
       "      <td>2</td>\n",
       "    </tr>\n",
       "    <tr>\n",
       "      <th>28006</th>\n",
       "      <td>27</td>\n",
       "      <td>43218</td>\n",
       "      <td>11.0</td>\n",
       "      <td>5300</td>\n",
       "      <td>14.65</td>\n",
       "      <td>0.12</td>\n",
       "      <td>7</td>\n",
       "    </tr>\n",
       "    <tr>\n",
       "      <th>31218</th>\n",
       "      <td>44</td>\n",
       "      <td>80100</td>\n",
       "      <td>16.0</td>\n",
       "      <td>8000</td>\n",
       "      <td>10.38</td>\n",
       "      <td>0.10</td>\n",
       "      <td>16</td>\n",
       "    </tr>\n",
       "    <tr>\n",
       "      <th>7645</th>\n",
       "      <td>23</td>\n",
       "      <td>73000</td>\n",
       "      <td>0.0</td>\n",
       "      <td>6825</td>\n",
       "      <td>10.99</td>\n",
       "      <td>0.09</td>\n",
       "      <td>3</td>\n",
       "    </tr>\n",
       "    <tr>\n",
       "      <th>17168</th>\n",
       "      <td>25</td>\n",
       "      <td>51492</td>\n",
       "      <td>2.0</td>\n",
       "      <td>13800</td>\n",
       "      <td>10.38</td>\n",
       "      <td>0.27</td>\n",
       "      <td>4</td>\n",
       "    </tr>\n",
       "  </tbody>\n",
       "</table>\n",
       "</div>"
      ],
      "text/plain": [
       "       person_age  person_income  person_emp_length  loan_amnt  loan_int_rate  \\\n",
       "16555          26          75000                9.0       4000          12.99   \n",
       "28006          27          43218               11.0       5300          14.65   \n",
       "31218          44          80100               16.0       8000          10.38   \n",
       "7645           23          73000                0.0       6825          10.99   \n",
       "17168          25          51492                2.0      13800          10.38   \n",
       "\n",
       "       loan_percent_income  cb_person_cred_hist_length  \n",
       "16555                 0.05                           2  \n",
       "28006                 0.12                           7  \n",
       "31218                 0.10                          16  \n",
       "7645                  0.09                           3  \n",
       "17168                 0.27                           4  "
      ]
     },
     "execution_count": 77,
     "metadata": {},
     "output_type": "execute_result"
    }
   ],
   "source": [
    "#spliting of numerical values from test data\n",
    "X_test_num = X_test.select_dtypes(include=['int64','float64'])\n",
    "X_test_num.head()"
   ]
  },
  {
   "cell_type": "code",
   "execution_count": 78,
   "id": "8eefc990",
   "metadata": {},
   "outputs": [
    {
     "data": {
      "text/html": [
       "<div>\n",
       "<style scoped>\n",
       "    .dataframe tbody tr th:only-of-type {\n",
       "        vertical-align: middle;\n",
       "    }\n",
       "\n",
       "    .dataframe tbody tr th {\n",
       "        vertical-align: top;\n",
       "    }\n",
       "\n",
       "    .dataframe thead th {\n",
       "        text-align: right;\n",
       "    }\n",
       "</style>\n",
       "<table border=\"1\" class=\"dataframe\">\n",
       "  <thead>\n",
       "    <tr style=\"text-align: right;\">\n",
       "      <th></th>\n",
       "      <th>person_home_ownership</th>\n",
       "      <th>loan_intent</th>\n",
       "      <th>loan_grade</th>\n",
       "      <th>cb_person_default_on_file</th>\n",
       "    </tr>\n",
       "  </thead>\n",
       "  <tbody>\n",
       "    <tr>\n",
       "      <th>16555</th>\n",
       "      <td>MORTGAGE</td>\n",
       "      <td>MEDICAL</td>\n",
       "      <td>C</td>\n",
       "      <td>Y</td>\n",
       "    </tr>\n",
       "    <tr>\n",
       "      <th>28006</th>\n",
       "      <td>RENT</td>\n",
       "      <td>PERSONAL</td>\n",
       "      <td>C</td>\n",
       "      <td>Y</td>\n",
       "    </tr>\n",
       "    <tr>\n",
       "      <th>31218</th>\n",
       "      <td>MORTGAGE</td>\n",
       "      <td>MEDICAL</td>\n",
       "      <td>B</td>\n",
       "      <td>N</td>\n",
       "    </tr>\n",
       "    <tr>\n",
       "      <th>7645</th>\n",
       "      <td>RENT</td>\n",
       "      <td>DEBTCONSOLIDATION</td>\n",
       "      <td>B</td>\n",
       "      <td>N</td>\n",
       "    </tr>\n",
       "    <tr>\n",
       "      <th>17168</th>\n",
       "      <td>MORTGAGE</td>\n",
       "      <td>EDUCATION</td>\n",
       "      <td>B</td>\n",
       "      <td>N</td>\n",
       "    </tr>\n",
       "  </tbody>\n",
       "</table>\n",
       "</div>"
      ],
      "text/plain": [
       "      person_home_ownership        loan_intent loan_grade  \\\n",
       "16555              MORTGAGE            MEDICAL          C   \n",
       "28006                  RENT           PERSONAL          C   \n",
       "31218              MORTGAGE            MEDICAL          B   \n",
       "7645                   RENT  DEBTCONSOLIDATION          B   \n",
       "17168              MORTGAGE          EDUCATION          B   \n",
       "\n",
       "      cb_person_default_on_file  \n",
       "16555                         Y  \n",
       "28006                         Y  \n",
       "31218                         N  \n",
       "7645                          N  \n",
       "17168                         N  "
      ]
     },
     "execution_count": 78,
     "metadata": {},
     "output_type": "execute_result"
    }
   ],
   "source": [
    "#spliting of catagorical values from test data\n",
    "X_test_cat = X_test.select_dtypes(include=['object'])\n",
    "X_test_cat.head()"
   ]
  },
  {
   "cell_type": "code",
   "execution_count": 79,
   "id": "c2838f62",
   "metadata": {},
   "outputs": [
    {
     "data": {
      "text/html": [
       "<div>\n",
       "<style scoped>\n",
       "    .dataframe tbody tr th:only-of-type {\n",
       "        vertical-align: middle;\n",
       "    }\n",
       "\n",
       "    .dataframe tbody tr th {\n",
       "        vertical-align: top;\n",
       "    }\n",
       "\n",
       "    .dataframe thead th {\n",
       "        text-align: right;\n",
       "    }\n",
       "</style>\n",
       "<table border=\"1\" class=\"dataframe\">\n",
       "  <thead>\n",
       "    <tr style=\"text-align: right;\">\n",
       "      <th></th>\n",
       "      <th>person_age</th>\n",
       "      <th>person_income</th>\n",
       "      <th>person_emp_length</th>\n",
       "      <th>loan_amnt</th>\n",
       "      <th>loan_int_rate</th>\n",
       "      <th>loan_percent_income</th>\n",
       "      <th>cb_person_cred_hist_length</th>\n",
       "    </tr>\n",
       "  </thead>\n",
       "  <tbody>\n",
       "    <tr>\n",
       "      <th>16555</th>\n",
       "      <td>-0.268295</td>\n",
       "      <td>0.131415</td>\n",
       "      <td>1.002552</td>\n",
       "      <td>-0.893308</td>\n",
       "      <td>0.600977</td>\n",
       "      <td>-1.122283</td>\n",
       "      <td>-0.933421</td>\n",
       "    </tr>\n",
       "    <tr>\n",
       "      <th>28006</th>\n",
       "      <td>-0.108702</td>\n",
       "      <td>-0.370531</td>\n",
       "      <td>1.480746</td>\n",
       "      <td>-0.688007</td>\n",
       "      <td>1.114032</td>\n",
       "      <td>-0.462356</td>\n",
       "      <td>0.307927</td>\n",
       "    </tr>\n",
       "    <tr>\n",
       "      <th>31218</th>\n",
       "      <td>2.604386</td>\n",
       "      <td>0.211962</td>\n",
       "      <td>2.676230</td>\n",
       "      <td>-0.261612</td>\n",
       "      <td>-0.205695</td>\n",
       "      <td>-0.650907</td>\n",
       "      <td>2.542354</td>\n",
       "    </tr>\n",
       "    <tr>\n",
       "      <th>7645</th>\n",
       "      <td>-0.747075</td>\n",
       "      <td>0.099828</td>\n",
       "      <td>-1.149319</td>\n",
       "      <td>-0.447173</td>\n",
       "      <td>-0.017162</td>\n",
       "      <td>-0.745182</td>\n",
       "      <td>-0.685152</td>\n",
       "    </tr>\n",
       "    <tr>\n",
       "      <th>17168</th>\n",
       "      <td>-0.427888</td>\n",
       "      <td>-0.239856</td>\n",
       "      <td>-0.671125</td>\n",
       "      <td>0.654348</td>\n",
       "      <td>-0.205695</td>\n",
       "      <td>0.951773</td>\n",
       "      <td>-0.436882</td>\n",
       "    </tr>\n",
       "  </tbody>\n",
       "</table>\n",
       "</div>"
      ],
      "text/plain": [
       "       person_age  person_income  person_emp_length  loan_amnt  loan_int_rate  \\\n",
       "16555   -0.268295       0.131415           1.002552  -0.893308       0.600977   \n",
       "28006   -0.108702      -0.370531           1.480746  -0.688007       1.114032   \n",
       "31218    2.604386       0.211962           2.676230  -0.261612      -0.205695   \n",
       "7645    -0.747075       0.099828          -1.149319  -0.447173      -0.017162   \n",
       "17168   -0.427888      -0.239856          -0.671125   0.654348      -0.205695   \n",
       "\n",
       "       loan_percent_income  cb_person_cred_hist_length  \n",
       "16555            -1.122283                   -0.933421  \n",
       "28006            -0.462356                    0.307927  \n",
       "31218            -0.650907                    2.542354  \n",
       "7645             -0.745182                   -0.685152  \n",
       "17168             0.951773                   -0.436882  "
      ]
     },
     "execution_count": 79,
     "metadata": {},
     "output_type": "execute_result"
    }
   ],
   "source": [
    "X_test_num_transformed = pd.DataFrame(scaler.transform(X_test_num), # transforming of numerical data and creating of dataframe for transformed data\n",
    "                                       columns= X_test_num.columns,\n",
    "                                       index=X_test_num.index)\n",
    "X_test_num_transformed.head()"
   ]
  },
  {
   "cell_type": "code",
   "execution_count": 80,
   "id": "42449ed7",
   "metadata": {},
   "outputs": [
    {
     "data": {
      "text/html": [
       "<div>\n",
       "<style scoped>\n",
       "    .dataframe tbody tr th:only-of-type {\n",
       "        vertical-align: middle;\n",
       "    }\n",
       "\n",
       "    .dataframe tbody tr th {\n",
       "        vertical-align: top;\n",
       "    }\n",
       "\n",
       "    .dataframe thead th {\n",
       "        text-align: right;\n",
       "    }\n",
       "</style>\n",
       "<table border=\"1\" class=\"dataframe\">\n",
       "  <thead>\n",
       "    <tr style=\"text-align: right;\">\n",
       "      <th></th>\n",
       "      <th>person_home_ownership</th>\n",
       "      <th>loan_intent</th>\n",
       "    </tr>\n",
       "  </thead>\n",
       "  <tbody>\n",
       "    <tr>\n",
       "      <th>16555</th>\n",
       "      <td>MORTGAGE</td>\n",
       "      <td>MEDICAL</td>\n",
       "    </tr>\n",
       "    <tr>\n",
       "      <th>28006</th>\n",
       "      <td>RENT</td>\n",
       "      <td>PERSONAL</td>\n",
       "    </tr>\n",
       "    <tr>\n",
       "      <th>31218</th>\n",
       "      <td>MORTGAGE</td>\n",
       "      <td>MEDICAL</td>\n",
       "    </tr>\n",
       "    <tr>\n",
       "      <th>7645</th>\n",
       "      <td>RENT</td>\n",
       "      <td>DEBTCONSOLIDATION</td>\n",
       "    </tr>\n",
       "    <tr>\n",
       "      <th>17168</th>\n",
       "      <td>MORTGAGE</td>\n",
       "      <td>EDUCATION</td>\n",
       "    </tr>\n",
       "  </tbody>\n",
       "</table>\n",
       "</div>"
      ],
      "text/plain": [
       "      person_home_ownership        loan_intent\n",
       "16555              MORTGAGE            MEDICAL\n",
       "28006                  RENT           PERSONAL\n",
       "31218              MORTGAGE            MEDICAL\n",
       "7645                   RENT  DEBTCONSOLIDATION\n",
       "17168              MORTGAGE          EDUCATION"
      ]
     },
     "execution_count": 80,
     "metadata": {},
     "output_type": "execute_result"
    }
   ],
   "source": [
    "#saparating of nomial data from test_catagorical data\n",
    "X_test_cat_ohe = X_test_cat[['person_home_ownership','loan_intent']]\n",
    "X_test_cat_ohe.head()"
   ]
  },
  {
   "cell_type": "code",
   "execution_count": 81,
   "id": "45eea428",
   "metadata": {},
   "outputs": [
    {
     "data": {
      "text/plain": [
       "16555    C\n",
       "28006    C\n",
       "31218    B\n",
       "7645     B\n",
       "17168    B\n",
       "Name: loan_grade, dtype: object"
      ]
     },
     "execution_count": 81,
     "metadata": {},
     "output_type": "execute_result"
    }
   ],
   "source": [
    "#saparating of odinal data from test_catagorical data\n",
    "X_test_cat_ln = X_test['loan_grade']\n",
    "X_test_cat_ln.head()"
   ]
  },
  {
   "cell_type": "code",
   "execution_count": 82,
   "id": "93a6d29e",
   "metadata": {},
   "outputs": [
    {
     "data": {
      "text/plain": [
       "array(['C', 'B', 'D', 'A', 'E', 'F', 'G'], dtype=object)"
      ]
     },
     "execution_count": 82,
     "metadata": {},
     "output_type": "execute_result"
    }
   ],
   "source": [
    "#unique values in test_catagorical in odinal data\n",
    "X_test_cat_ln.unique()"
   ]
  },
  {
   "cell_type": "code",
   "execution_count": 83,
   "id": "234aab1b",
   "metadata": {},
   "outputs": [
    {
     "data": {
      "text/html": [
       "<div>\n",
       "<style scoped>\n",
       "    .dataframe tbody tr th:only-of-type {\n",
       "        vertical-align: middle;\n",
       "    }\n",
       "\n",
       "    .dataframe tbody tr th {\n",
       "        vertical-align: top;\n",
       "    }\n",
       "\n",
       "    .dataframe thead th {\n",
       "        text-align: right;\n",
       "    }\n",
       "</style>\n",
       "<table border=\"1\" class=\"dataframe\">\n",
       "  <thead>\n",
       "    <tr style=\"text-align: right;\">\n",
       "      <th></th>\n",
       "    </tr>\n",
       "  </thead>\n",
       "  <tbody>\n",
       "    <tr>\n",
       "      <th>16555</th>\n",
       "    </tr>\n",
       "    <tr>\n",
       "      <th>28006</th>\n",
       "    </tr>\n",
       "    <tr>\n",
       "      <th>31218</th>\n",
       "    </tr>\n",
       "    <tr>\n",
       "      <th>7645</th>\n",
       "    </tr>\n",
       "    <tr>\n",
       "      <th>17168</th>\n",
       "    </tr>\n",
       "  </tbody>\n",
       "</table>\n",
       "</div>"
      ],
      "text/plain": [
       "Empty DataFrame\n",
       "Columns: []\n",
       "Index: [16555, 28006, 31218, 7645, 17168]"
      ]
     },
     "execution_count": 83,
     "metadata": {},
     "output_type": "execute_result"
    }
   ],
   "source": [
    "#creating dataframe for index values\n",
    "X_test_cat_ln = pd.DataFrame(index = X_test_cat.index)\n",
    "X_test_cat_ln.head()"
   ]
  },
  {
   "cell_type": "code",
   "execution_count": 84,
   "id": "8d53aaf7",
   "metadata": {},
   "outputs": [
    {
     "data": {
      "text/html": [
       "<div>\n",
       "<style scoped>\n",
       "    .dataframe tbody tr th:only-of-type {\n",
       "        vertical-align: middle;\n",
       "    }\n",
       "\n",
       "    .dataframe tbody tr th {\n",
       "        vertical-align: top;\n",
       "    }\n",
       "\n",
       "    .dataframe thead th {\n",
       "        text-align: right;\n",
       "    }\n",
       "</style>\n",
       "<table border=\"1\" class=\"dataframe\">\n",
       "  <thead>\n",
       "    <tr style=\"text-align: right;\">\n",
       "      <th></th>\n",
       "      <th>person_home_ownership_OTHER</th>\n",
       "      <th>person_home_ownership_OWN</th>\n",
       "      <th>person_home_ownership_RENT</th>\n",
       "      <th>loan_intent_EDUCATION</th>\n",
       "      <th>loan_intent_HOMEIMPROVEMENT</th>\n",
       "      <th>loan_intent_MEDICAL</th>\n",
       "      <th>loan_intent_PERSONAL</th>\n",
       "      <th>loan_intent_VENTURE</th>\n",
       "    </tr>\n",
       "  </thead>\n",
       "  <tbody>\n",
       "    <tr>\n",
       "      <th>16555</th>\n",
       "      <td>0.0</td>\n",
       "      <td>0.0</td>\n",
       "      <td>0.0</td>\n",
       "      <td>0.0</td>\n",
       "      <td>0.0</td>\n",
       "      <td>1.0</td>\n",
       "      <td>0.0</td>\n",
       "      <td>0.0</td>\n",
       "    </tr>\n",
       "    <tr>\n",
       "      <th>28006</th>\n",
       "      <td>0.0</td>\n",
       "      <td>0.0</td>\n",
       "      <td>1.0</td>\n",
       "      <td>0.0</td>\n",
       "      <td>0.0</td>\n",
       "      <td>0.0</td>\n",
       "      <td>1.0</td>\n",
       "      <td>0.0</td>\n",
       "    </tr>\n",
       "    <tr>\n",
       "      <th>31218</th>\n",
       "      <td>0.0</td>\n",
       "      <td>0.0</td>\n",
       "      <td>0.0</td>\n",
       "      <td>0.0</td>\n",
       "      <td>0.0</td>\n",
       "      <td>1.0</td>\n",
       "      <td>0.0</td>\n",
       "      <td>0.0</td>\n",
       "    </tr>\n",
       "    <tr>\n",
       "      <th>7645</th>\n",
       "      <td>0.0</td>\n",
       "      <td>0.0</td>\n",
       "      <td>1.0</td>\n",
       "      <td>0.0</td>\n",
       "      <td>0.0</td>\n",
       "      <td>0.0</td>\n",
       "      <td>0.0</td>\n",
       "      <td>0.0</td>\n",
       "    </tr>\n",
       "    <tr>\n",
       "      <th>17168</th>\n",
       "      <td>0.0</td>\n",
       "      <td>0.0</td>\n",
       "      <td>0.0</td>\n",
       "      <td>1.0</td>\n",
       "      <td>0.0</td>\n",
       "      <td>0.0</td>\n",
       "      <td>0.0</td>\n",
       "      <td>0.0</td>\n",
       "    </tr>\n",
       "  </tbody>\n",
       "</table>\n",
       "</div>"
      ],
      "text/plain": [
       "       person_home_ownership_OTHER  person_home_ownership_OWN  \\\n",
       "16555                          0.0                        0.0   \n",
       "28006                          0.0                        0.0   \n",
       "31218                          0.0                        0.0   \n",
       "7645                           0.0                        0.0   \n",
       "17168                          0.0                        0.0   \n",
       "\n",
       "       person_home_ownership_RENT  loan_intent_EDUCATION  \\\n",
       "16555                         0.0                    0.0   \n",
       "28006                         1.0                    0.0   \n",
       "31218                         0.0                    0.0   \n",
       "7645                          1.0                    0.0   \n",
       "17168                         0.0                    1.0   \n",
       "\n",
       "       loan_intent_HOMEIMPROVEMENT  loan_intent_MEDICAL  loan_intent_PERSONAL  \\\n",
       "16555                          0.0                  1.0                   0.0   \n",
       "28006                          0.0                  0.0                   1.0   \n",
       "31218                          0.0                  1.0                   0.0   \n",
       "7645                           0.0                  0.0                   0.0   \n",
       "17168                          0.0                  0.0                   0.0   \n",
       "\n",
       "       loan_intent_VENTURE  \n",
       "16555                  0.0  \n",
       "28006                  0.0  \n",
       "31218                  0.0  \n",
       "7645                   0.0  \n",
       "17168                  0.0  "
      ]
     },
     "execution_count": 84,
     "metadata": {},
     "output_type": "execute_result"
    }
   ],
   "source": [
    "#transforming of catagorical data and creating of dataframe for transformed data\n",
    "X_test_cat_ohe = pd.DataFrame(encoder.transform(X_test_cat_ohe),\n",
    "                               columns = encoder.get_feature_names_out(X_test_cat_ohe.columns),\n",
    "                               index = X_test_cat_ohe.index) \n",
    "X_test_cat_ohe.head()"
   ]
  },
  {
   "cell_type": "code",
   "execution_count": 85,
   "id": "9c83785f",
   "metadata": {},
   "outputs": [
    {
     "data": {
      "text/plain": [
       "16555    5\n",
       "28006    5\n",
       "31218    6\n",
       "7645     6\n",
       "17168    6\n",
       "Name: loan_grade, dtype: int64"
      ]
     },
     "execution_count": 85,
     "metadata": {},
     "output_type": "execute_result"
    }
   ],
   "source": [
    "#applying of label encoding \n",
    "clarity_encoder = {'A':7,'B':6,'C':5,'D':4,'E':3,'F':2,'G':1}\n",
    "X_test_cat_ln = X_test['loan_grade'].apply (lambda x: clarity_encoder[x])\n",
    "X_test_cat_ln.head()"
   ]
  },
  {
   "cell_type": "code",
   "execution_count": 86,
   "id": "74e915b0",
   "metadata": {},
   "outputs": [
    {
     "data": {
      "text/html": [
       "<div>\n",
       "<style scoped>\n",
       "    .dataframe tbody tr th:only-of-type {\n",
       "        vertical-align: middle;\n",
       "    }\n",
       "\n",
       "    .dataframe tbody tr th {\n",
       "        vertical-align: top;\n",
       "    }\n",
       "\n",
       "    .dataframe thead th {\n",
       "        text-align: right;\n",
       "    }\n",
       "</style>\n",
       "<table border=\"1\" class=\"dataframe\">\n",
       "  <thead>\n",
       "    <tr style=\"text-align: right;\">\n",
       "      <th></th>\n",
       "      <th>person_home_ownership_OTHER</th>\n",
       "      <th>person_home_ownership_OWN</th>\n",
       "      <th>person_home_ownership_RENT</th>\n",
       "      <th>loan_intent_EDUCATION</th>\n",
       "      <th>loan_intent_HOMEIMPROVEMENT</th>\n",
       "      <th>loan_intent_MEDICAL</th>\n",
       "      <th>loan_intent_PERSONAL</th>\n",
       "      <th>loan_intent_VENTURE</th>\n",
       "      <th>loan_grade</th>\n",
       "    </tr>\n",
       "  </thead>\n",
       "  <tbody>\n",
       "    <tr>\n",
       "      <th>16555</th>\n",
       "      <td>0.0</td>\n",
       "      <td>0.0</td>\n",
       "      <td>0.0</td>\n",
       "      <td>0.0</td>\n",
       "      <td>0.0</td>\n",
       "      <td>1.0</td>\n",
       "      <td>0.0</td>\n",
       "      <td>0.0</td>\n",
       "      <td>5</td>\n",
       "    </tr>\n",
       "    <tr>\n",
       "      <th>28006</th>\n",
       "      <td>0.0</td>\n",
       "      <td>0.0</td>\n",
       "      <td>1.0</td>\n",
       "      <td>0.0</td>\n",
       "      <td>0.0</td>\n",
       "      <td>0.0</td>\n",
       "      <td>1.0</td>\n",
       "      <td>0.0</td>\n",
       "      <td>5</td>\n",
       "    </tr>\n",
       "    <tr>\n",
       "      <th>31218</th>\n",
       "      <td>0.0</td>\n",
       "      <td>0.0</td>\n",
       "      <td>0.0</td>\n",
       "      <td>0.0</td>\n",
       "      <td>0.0</td>\n",
       "      <td>1.0</td>\n",
       "      <td>0.0</td>\n",
       "      <td>0.0</td>\n",
       "      <td>6</td>\n",
       "    </tr>\n",
       "    <tr>\n",
       "      <th>7645</th>\n",
       "      <td>0.0</td>\n",
       "      <td>0.0</td>\n",
       "      <td>1.0</td>\n",
       "      <td>0.0</td>\n",
       "      <td>0.0</td>\n",
       "      <td>0.0</td>\n",
       "      <td>0.0</td>\n",
       "      <td>0.0</td>\n",
       "      <td>6</td>\n",
       "    </tr>\n",
       "    <tr>\n",
       "      <th>17168</th>\n",
       "      <td>0.0</td>\n",
       "      <td>0.0</td>\n",
       "      <td>0.0</td>\n",
       "      <td>1.0</td>\n",
       "      <td>0.0</td>\n",
       "      <td>0.0</td>\n",
       "      <td>0.0</td>\n",
       "      <td>0.0</td>\n",
       "      <td>6</td>\n",
       "    </tr>\n",
       "  </tbody>\n",
       "</table>\n",
       "</div>"
      ],
      "text/plain": [
       "       person_home_ownership_OTHER  person_home_ownership_OWN  \\\n",
       "16555                          0.0                        0.0   \n",
       "28006                          0.0                        0.0   \n",
       "31218                          0.0                        0.0   \n",
       "7645                           0.0                        0.0   \n",
       "17168                          0.0                        0.0   \n",
       "\n",
       "       person_home_ownership_RENT  loan_intent_EDUCATION  \\\n",
       "16555                         0.0                    0.0   \n",
       "28006                         1.0                    0.0   \n",
       "31218                         0.0                    0.0   \n",
       "7645                          1.0                    0.0   \n",
       "17168                         0.0                    1.0   \n",
       "\n",
       "       loan_intent_HOMEIMPROVEMENT  loan_intent_MEDICAL  loan_intent_PERSONAL  \\\n",
       "16555                          0.0                  1.0                   0.0   \n",
       "28006                          0.0                  0.0                   1.0   \n",
       "31218                          0.0                  1.0                   0.0   \n",
       "7645                           0.0                  0.0                   0.0   \n",
       "17168                          0.0                  0.0                   0.0   \n",
       "\n",
       "       loan_intent_VENTURE  loan_grade  \n",
       "16555                  0.0           5  \n",
       "28006                  0.0           5  \n",
       "31218                  0.0           6  \n",
       "7645                   0.0           6  \n",
       "17168                  0.0           6  "
      ]
     },
     "execution_count": 86,
     "metadata": {},
     "output_type": "execute_result"
    }
   ],
   "source": [
    "#concating the x_test_cat_nominal and odinal\n",
    "X_test_cat_transformed = pd.concat([X_test_cat_ohe,X_test_cat_ln],axis=1)\n",
    "X_test_cat_transformed.head()"
   ]
  },
  {
   "cell_type": "code",
   "execution_count": 87,
   "id": "6b8b9a7b",
   "metadata": {},
   "outputs": [
    {
     "data": {
      "text/html": [
       "<div>\n",
       "<style scoped>\n",
       "    .dataframe tbody tr th:only-of-type {\n",
       "        vertical-align: middle;\n",
       "    }\n",
       "\n",
       "    .dataframe tbody tr th {\n",
       "        vertical-align: top;\n",
       "    }\n",
       "\n",
       "    .dataframe thead th {\n",
       "        text-align: right;\n",
       "    }\n",
       "</style>\n",
       "<table border=\"1\" class=\"dataframe\">\n",
       "  <thead>\n",
       "    <tr style=\"text-align: right;\">\n",
       "      <th></th>\n",
       "      <th>person_age</th>\n",
       "      <th>person_income</th>\n",
       "      <th>person_emp_length</th>\n",
       "      <th>loan_amnt</th>\n",
       "      <th>loan_int_rate</th>\n",
       "      <th>loan_percent_income</th>\n",
       "      <th>cb_person_cred_hist_length</th>\n",
       "      <th>person_home_ownership_OTHER</th>\n",
       "      <th>person_home_ownership_OWN</th>\n",
       "      <th>person_home_ownership_RENT</th>\n",
       "      <th>loan_intent_EDUCATION</th>\n",
       "      <th>loan_intent_HOMEIMPROVEMENT</th>\n",
       "      <th>loan_intent_MEDICAL</th>\n",
       "      <th>loan_intent_PERSONAL</th>\n",
       "      <th>loan_intent_VENTURE</th>\n",
       "      <th>loan_grade</th>\n",
       "    </tr>\n",
       "  </thead>\n",
       "  <tbody>\n",
       "    <tr>\n",
       "      <th>16555</th>\n",
       "      <td>-0.268295</td>\n",
       "      <td>0.131415</td>\n",
       "      <td>1.002552</td>\n",
       "      <td>-0.893308</td>\n",
       "      <td>0.600977</td>\n",
       "      <td>-1.122283</td>\n",
       "      <td>-0.933421</td>\n",
       "      <td>0.0</td>\n",
       "      <td>0.0</td>\n",
       "      <td>0.0</td>\n",
       "      <td>0.0</td>\n",
       "      <td>0.0</td>\n",
       "      <td>1.0</td>\n",
       "      <td>0.0</td>\n",
       "      <td>0.0</td>\n",
       "      <td>5</td>\n",
       "    </tr>\n",
       "    <tr>\n",
       "      <th>28006</th>\n",
       "      <td>-0.108702</td>\n",
       "      <td>-0.370531</td>\n",
       "      <td>1.480746</td>\n",
       "      <td>-0.688007</td>\n",
       "      <td>1.114032</td>\n",
       "      <td>-0.462356</td>\n",
       "      <td>0.307927</td>\n",
       "      <td>0.0</td>\n",
       "      <td>0.0</td>\n",
       "      <td>1.0</td>\n",
       "      <td>0.0</td>\n",
       "      <td>0.0</td>\n",
       "      <td>0.0</td>\n",
       "      <td>1.0</td>\n",
       "      <td>0.0</td>\n",
       "      <td>5</td>\n",
       "    </tr>\n",
       "    <tr>\n",
       "      <th>31218</th>\n",
       "      <td>2.604386</td>\n",
       "      <td>0.211962</td>\n",
       "      <td>2.676230</td>\n",
       "      <td>-0.261612</td>\n",
       "      <td>-0.205695</td>\n",
       "      <td>-0.650907</td>\n",
       "      <td>2.542354</td>\n",
       "      <td>0.0</td>\n",
       "      <td>0.0</td>\n",
       "      <td>0.0</td>\n",
       "      <td>0.0</td>\n",
       "      <td>0.0</td>\n",
       "      <td>1.0</td>\n",
       "      <td>0.0</td>\n",
       "      <td>0.0</td>\n",
       "      <td>6</td>\n",
       "    </tr>\n",
       "    <tr>\n",
       "      <th>7645</th>\n",
       "      <td>-0.747075</td>\n",
       "      <td>0.099828</td>\n",
       "      <td>-1.149319</td>\n",
       "      <td>-0.447173</td>\n",
       "      <td>-0.017162</td>\n",
       "      <td>-0.745182</td>\n",
       "      <td>-0.685152</td>\n",
       "      <td>0.0</td>\n",
       "      <td>0.0</td>\n",
       "      <td>1.0</td>\n",
       "      <td>0.0</td>\n",
       "      <td>0.0</td>\n",
       "      <td>0.0</td>\n",
       "      <td>0.0</td>\n",
       "      <td>0.0</td>\n",
       "      <td>6</td>\n",
       "    </tr>\n",
       "    <tr>\n",
       "      <th>17168</th>\n",
       "      <td>-0.427888</td>\n",
       "      <td>-0.239856</td>\n",
       "      <td>-0.671125</td>\n",
       "      <td>0.654348</td>\n",
       "      <td>-0.205695</td>\n",
       "      <td>0.951773</td>\n",
       "      <td>-0.436882</td>\n",
       "      <td>0.0</td>\n",
       "      <td>0.0</td>\n",
       "      <td>0.0</td>\n",
       "      <td>1.0</td>\n",
       "      <td>0.0</td>\n",
       "      <td>0.0</td>\n",
       "      <td>0.0</td>\n",
       "      <td>0.0</td>\n",
       "      <td>6</td>\n",
       "    </tr>\n",
       "  </tbody>\n",
       "</table>\n",
       "</div>"
      ],
      "text/plain": [
       "       person_age  person_income  person_emp_length  loan_amnt  loan_int_rate  \\\n",
       "16555   -0.268295       0.131415           1.002552  -0.893308       0.600977   \n",
       "28006   -0.108702      -0.370531           1.480746  -0.688007       1.114032   \n",
       "31218    2.604386       0.211962           2.676230  -0.261612      -0.205695   \n",
       "7645    -0.747075       0.099828          -1.149319  -0.447173      -0.017162   \n",
       "17168   -0.427888      -0.239856          -0.671125   0.654348      -0.205695   \n",
       "\n",
       "       loan_percent_income  cb_person_cred_hist_length  \\\n",
       "16555            -1.122283                   -0.933421   \n",
       "28006            -0.462356                    0.307927   \n",
       "31218            -0.650907                    2.542354   \n",
       "7645             -0.745182                   -0.685152   \n",
       "17168             0.951773                   -0.436882   \n",
       "\n",
       "       person_home_ownership_OTHER  person_home_ownership_OWN  \\\n",
       "16555                          0.0                        0.0   \n",
       "28006                          0.0                        0.0   \n",
       "31218                          0.0                        0.0   \n",
       "7645                           0.0                        0.0   \n",
       "17168                          0.0                        0.0   \n",
       "\n",
       "       person_home_ownership_RENT  loan_intent_EDUCATION  \\\n",
       "16555                         0.0                    0.0   \n",
       "28006                         1.0                    0.0   \n",
       "31218                         0.0                    0.0   \n",
       "7645                          1.0                    0.0   \n",
       "17168                         0.0                    1.0   \n",
       "\n",
       "       loan_intent_HOMEIMPROVEMENT  loan_intent_MEDICAL  loan_intent_PERSONAL  \\\n",
       "16555                          0.0                  1.0                   0.0   \n",
       "28006                          0.0                  0.0                   1.0   \n",
       "31218                          0.0                  1.0                   0.0   \n",
       "7645                           0.0                  0.0                   0.0   \n",
       "17168                          0.0                  0.0                   0.0   \n",
       "\n",
       "       loan_intent_VENTURE  loan_grade  \n",
       "16555                  0.0           5  \n",
       "28006                  0.0           5  \n",
       "31218                  0.0           6  \n",
       "7645                   0.0           6  \n",
       "17168                  0.0           6  "
      ]
     },
     "execution_count": 87,
     "metadata": {},
     "output_type": "execute_result"
    }
   ],
   "source": [
    "#concatin the x_test_num_transform and x_test_cat_transfrom\n",
    "X_test_transformed = pd.concat([X_test_num_transformed,X_test_cat_transformed],axis=1)\n",
    "X_test_transformed.head()"
   ]
  },
  {
   "cell_type": "markdown",
   "id": "85c3c926",
   "metadata": {},
   "source": [
    "# Model creation"
   ]
  },
  {
   "cell_type": "markdown",
   "id": "0062bd1c",
   "metadata": {},
   "source": [
    "## Logistic Regression"
   ]
  },
  {
   "cell_type": "code",
   "execution_count": 88,
   "id": "66c3a267",
   "metadata": {},
   "outputs": [
    {
     "data": {
      "text/plain": [
       "LogisticRegression()"
      ]
     },
     "execution_count": 88,
     "metadata": {},
     "output_type": "execute_result"
    }
   ],
   "source": [
    "#model preparing\n",
    "from sklearn.linear_model import LogisticRegression\n",
    "LO_classifier = LogisticRegression()\n",
    "LO_classifier.fit(X_train_transformed,y_train)"
   ]
  },
  {
   "cell_type": "code",
   "execution_count": 89,
   "id": "461d14e8",
   "metadata": {},
   "outputs": [],
   "source": [
    "#y_test prediction\n",
    "y_test_prdt = LO_classifier.predict(X_test_transformed)"
   ]
  },
  {
   "cell_type": "code",
   "execution_count": 90,
   "id": "0a573f32",
   "metadata": {},
   "outputs": [],
   "source": [
    "#evealating\n",
    "from sklearn import metrics\n",
    "\n",
    "LO=metrics.accuracy_score(y_test,y_test_prdt)"
   ]
  },
  {
   "cell_type": "code",
   "execution_count": 91,
   "id": "f7c93786",
   "metadata": {},
   "outputs": [
    {
     "data": {
      "text/plain": [
       "0.8533519553072626"
      ]
     },
     "execution_count": 91,
     "metadata": {},
     "output_type": "execute_result"
    }
   ],
   "source": [
    "LO"
   ]
  },
  {
   "cell_type": "markdown",
   "id": "5b3cc6f0",
   "metadata": {},
   "source": [
    "##  KNN Classifier"
   ]
  },
  {
   "cell_type": "code",
   "execution_count": 92,
   "id": "51925dfb",
   "metadata": {},
   "outputs": [
    {
     "data": {
      "text/plain": [
       "KNeighborsClassifier()"
      ]
     },
     "execution_count": 92,
     "metadata": {},
     "output_type": "execute_result"
    }
   ],
   "source": [
    "from sklearn.neighbors import KNeighborsClassifier\n",
    "KN_classifier = KNeighborsClassifier()\n",
    "KN_classifier.fit(X_train_transformed, y_train)"
   ]
  },
  {
   "cell_type": "code",
   "execution_count": 93,
   "id": "cc6183c7",
   "metadata": {},
   "outputs": [],
   "source": [
    "y_test_prdt_KN = KN_classifier.predict(X_test_transformed)"
   ]
  },
  {
   "cell_type": "code",
   "execution_count": 94,
   "id": "26d1ab1e",
   "metadata": {},
   "outputs": [],
   "source": [
    "KN=metrics.accuracy_score(y_test,y_test_prdt_KN)"
   ]
  },
  {
   "cell_type": "code",
   "execution_count": 95,
   "id": "c23125c3",
   "metadata": {},
   "outputs": [
    {
     "data": {
      "text/plain": [
       "0.8888268156424581"
      ]
     },
     "execution_count": 95,
     "metadata": {},
     "output_type": "execute_result"
    }
   ],
   "source": [
    "KN"
   ]
  },
  {
   "cell_type": "markdown",
   "id": "0a93cdf3",
   "metadata": {},
   "source": [
    "## DecisionTree classifier"
   ]
  },
  {
   "cell_type": "code",
   "execution_count": 96,
   "id": "6bd2660c",
   "metadata": {},
   "outputs": [
    {
     "data": {
      "text/plain": [
       "DecisionTreeClassifier()"
      ]
     },
     "execution_count": 96,
     "metadata": {},
     "output_type": "execute_result"
    }
   ],
   "source": [
    "from sklearn.tree import DecisionTreeClassifier\n",
    "DT_Classifier = DecisionTreeClassifier()\n",
    "DT_Classifier.fit(X_train_transformed , y_train)"
   ]
  },
  {
   "cell_type": "code",
   "execution_count": 97,
   "id": "ce1ee62e",
   "metadata": {},
   "outputs": [],
   "source": [
    "y_test_prdt_DT = DT_Classifier.predict(X_test_transformed)"
   ]
  },
  {
   "cell_type": "code",
   "execution_count": 98,
   "id": "9171f581",
   "metadata": {},
   "outputs": [],
   "source": [
    "DT=metrics.accuracy_score(y_test,y_test_prdt_DT)"
   ]
  },
  {
   "cell_type": "code",
   "execution_count": 99,
   "id": "3d722557",
   "metadata": {},
   "outputs": [
    {
     "data": {
      "text/plain": [
       "0.8896648044692738"
      ]
     },
     "execution_count": 99,
     "metadata": {},
     "output_type": "execute_result"
    }
   ],
   "source": [
    "DT"
   ]
  },
  {
   "cell_type": "markdown",
   "id": "9847d5d2",
   "metadata": {},
   "source": [
    "## RandomForest Classifier"
   ]
  },
  {
   "cell_type": "code",
   "execution_count": 100,
   "id": "13384f9b",
   "metadata": {},
   "outputs": [
    {
     "data": {
      "text/plain": [
       "RandomForestClassifier()"
      ]
     },
     "execution_count": 100,
     "metadata": {},
     "output_type": "execute_result"
    }
   ],
   "source": [
    "from sklearn.ensemble import RandomForestClassifier\n",
    "RF_Classifier = RandomForestClassifier()\n",
    "RF_Classifier.fit(X_train_transformed,y_train)"
   ]
  },
  {
   "cell_type": "code",
   "execution_count": 101,
   "id": "e86423d2",
   "metadata": {},
   "outputs": [],
   "source": [
    "y_test_prdt_RF = RF_Classifier.predict(X_test_transformed)"
   ]
  },
  {
   "cell_type": "code",
   "execution_count": 102,
   "id": "702b5041",
   "metadata": {},
   "outputs": [],
   "source": [
    "RF=metrics.accuracy_score(y_test,y_test_prdt_RF)"
   ]
  },
  {
   "cell_type": "code",
   "execution_count": 103,
   "id": "5585739c",
   "metadata": {},
   "outputs": [
    {
     "data": {
      "text/plain": [
       "0.9329608938547486"
      ]
     },
     "execution_count": 103,
     "metadata": {},
     "output_type": "execute_result"
    }
   ],
   "source": [
    "RF"
   ]
  },
  {
   "cell_type": "markdown",
   "id": "4e5d1f25",
   "metadata": {},
   "source": [
    "## GradientBoosting Classifier"
   ]
  },
  {
   "cell_type": "code",
   "execution_count": 104,
   "id": "e71c2a3a",
   "metadata": {},
   "outputs": [
    {
     "data": {
      "text/plain": [
       "GradientBoostingClassifier()"
      ]
     },
     "execution_count": 104,
     "metadata": {},
     "output_type": "execute_result"
    }
   ],
   "source": [
    "from sklearn.ensemble import GradientBoostingClassifier\n",
    "GBDT_Classifier = GradientBoostingClassifier()\n",
    "GBDT_Classifier.fit(X_train_transformed, y_train)"
   ]
  },
  {
   "cell_type": "code",
   "execution_count": 105,
   "id": "9fb89c5b",
   "metadata": {},
   "outputs": [],
   "source": [
    "y_test_prdt_GBDT = GBDT_Classifier.predict(X_test_transformed)"
   ]
  },
  {
   "cell_type": "code",
   "execution_count": 106,
   "id": "8c7b8303",
   "metadata": {},
   "outputs": [],
   "source": [
    "GBDT=metrics.accuracy_score(y_test,y_test_prdt_GBDT)"
   ]
  },
  {
   "cell_type": "code",
   "execution_count": 107,
   "id": "68668c93",
   "metadata": {},
   "outputs": [
    {
     "data": {
      "text/plain": [
       "0.9258379888268157"
      ]
     },
     "execution_count": 107,
     "metadata": {},
     "output_type": "execute_result"
    }
   ],
   "source": [
    "GBDT"
   ]
  },
  {
   "cell_type": "markdown",
   "id": "307bcd21",
   "metadata": {},
   "source": [
    "## SupportVector Classifier"
   ]
  },
  {
   "cell_type": "code",
   "execution_count": 108,
   "id": "618f4a6b",
   "metadata": {},
   "outputs": [
    {
     "data": {
      "text/plain": [
       "SVC()"
      ]
     },
     "execution_count": 108,
     "metadata": {},
     "output_type": "execute_result"
    }
   ],
   "source": [
    "from sklearn.svm import SVC\n",
    "SVC_classifier = SVC()\n",
    "SVC_classifier.fit(X_train_transformed,y_train)"
   ]
  },
  {
   "cell_type": "code",
   "execution_count": 109,
   "id": "98e25cbd",
   "metadata": {},
   "outputs": [],
   "source": [
    "y_test_prdt_SVC = SVC_classifier.predict(X_test_transformed)"
   ]
  },
  {
   "cell_type": "code",
   "execution_count": 110,
   "id": "380f15b3",
   "metadata": {},
   "outputs": [],
   "source": [
    "SVC=metrics.accuracy_score(y_test,y_test_prdt_SVC)"
   ]
  },
  {
   "cell_type": "code",
   "execution_count": 111,
   "id": "7a1abbca",
   "metadata": {},
   "outputs": [
    {
     "data": {
      "text/plain": [
       "0.8916201117318435"
      ]
     },
     "execution_count": 111,
     "metadata": {},
     "output_type": "execute_result"
    }
   ],
   "source": [
    "SVC"
   ]
  },
  {
   "cell_type": "markdown",
   "id": "33e1907c",
   "metadata": {},
   "source": [
    "## AdaBoost Classifier"
   ]
  },
  {
   "cell_type": "code",
   "execution_count": 114,
   "id": "bec8b09b",
   "metadata": {},
   "outputs": [
    {
     "data": {
      "text/plain": [
       "AdaBoostClassifier()"
      ]
     },
     "execution_count": 114,
     "metadata": {},
     "output_type": "execute_result"
    }
   ],
   "source": [
    "from sklearn.ensemble import AdaBoostClassifier\n",
    "ADA_classifier = AdaBoostClassifier()\n",
    "ADA_classifier.fit(X_train_transformed,y_train)"
   ]
  },
  {
   "cell_type": "code",
   "execution_count": 115,
   "id": "fd83379d",
   "metadata": {},
   "outputs": [],
   "source": [
    "y_test_prdt_ADA= ADA_classifier.predict(X_test_transformed)"
   ]
  },
  {
   "cell_type": "code",
   "execution_count": 116,
   "id": "68032206",
   "metadata": {},
   "outputs": [],
   "source": [
    "ADA=metrics.accuracy_score(y_test,y_test_prdt_ADA)"
   ]
  },
  {
   "cell_type": "code",
   "execution_count": 122,
   "id": "3812cfe7",
   "metadata": {},
   "outputs": [],
   "source": [
    "Accuracy = [['Logistic Classifier',LO],\n",
    "       ['KNN Classifier',KN],\n",
    "       ['Decision Tree Classifier',DT],\n",
    "       ['Random Forest Classifier',RF],\n",
    "       ['Support vector Machines',SVC],\n",
    "       ['Gradient Boosting Decision Tree Classifier',GBDT],\n",
    "         [ 'ADA boost classifier',ADA]]\n",
    "dataframe = pd.DataFrame(Accuracy,columns = ['Algorithm','Accuracy Score'])"
   ]
  },
  {
   "cell_type": "markdown",
   "id": "884ed502",
   "metadata": {},
   "source": [
    "# Observation"
   ]
  },
  {
   "cell_type": "code",
   "execution_count": 123,
   "id": "caa28115",
   "metadata": {},
   "outputs": [
    {
     "data": {
      "text/html": [
       "<div>\n",
       "<style scoped>\n",
       "    .dataframe tbody tr th:only-of-type {\n",
       "        vertical-align: middle;\n",
       "    }\n",
       "\n",
       "    .dataframe tbody tr th {\n",
       "        vertical-align: top;\n",
       "    }\n",
       "\n",
       "    .dataframe thead th {\n",
       "        text-align: right;\n",
       "    }\n",
       "</style>\n",
       "<table border=\"1\" class=\"dataframe\">\n",
       "  <thead>\n",
       "    <tr style=\"text-align: right;\">\n",
       "      <th></th>\n",
       "      <th>Algorithm</th>\n",
       "      <th>Accuracy Score</th>\n",
       "    </tr>\n",
       "  </thead>\n",
       "  <tbody>\n",
       "    <tr>\n",
       "      <th>0</th>\n",
       "      <td>Logistic Classifier</td>\n",
       "      <td>0.853352</td>\n",
       "    </tr>\n",
       "    <tr>\n",
       "      <th>1</th>\n",
       "      <td>KNN Classifier</td>\n",
       "      <td>0.888827</td>\n",
       "    </tr>\n",
       "    <tr>\n",
       "      <th>2</th>\n",
       "      <td>Decision Tree Classifier</td>\n",
       "      <td>0.889665</td>\n",
       "    </tr>\n",
       "    <tr>\n",
       "      <th>3</th>\n",
       "      <td>Random Forest Classifier</td>\n",
       "      <td>0.932961</td>\n",
       "    </tr>\n",
       "    <tr>\n",
       "      <th>4</th>\n",
       "      <td>Support vector Machines</td>\n",
       "      <td>0.891620</td>\n",
       "    </tr>\n",
       "    <tr>\n",
       "      <th>5</th>\n",
       "      <td>Gradient Boosting Decision Tree Classifier</td>\n",
       "      <td>0.925838</td>\n",
       "    </tr>\n",
       "    <tr>\n",
       "      <th>6</th>\n",
       "      <td>ADA boost classifier</td>\n",
       "      <td>0.886872</td>\n",
       "    </tr>\n",
       "  </tbody>\n",
       "</table>\n",
       "</div>"
      ],
      "text/plain": [
       "                                    Algorithm  Accuracy Score\n",
       "0                         Logistic Classifier        0.853352\n",
       "1                              KNN Classifier        0.888827\n",
       "2                    Decision Tree Classifier        0.889665\n",
       "3                    Random Forest Classifier        0.932961\n",
       "4                     Support vector Machines        0.891620\n",
       "5  Gradient Boosting Decision Tree Classifier        0.925838\n",
       "6                        ADA boost classifier        0.886872"
      ]
     },
     "execution_count": 123,
     "metadata": {},
     "output_type": "execute_result"
    }
   ],
   "source": [
    "dataframe"
   ]
  },
  {
   "cell_type": "markdown",
   "id": "ab7fb706",
   "metadata": {},
   "source": [
    "# Conclusion"
   ]
  },
  {
   "cell_type": "markdown",
   "id": "12b7f77e",
   "metadata": {},
   "source": [
    "* Finally we conclude that RandomForest classifier is the best for loan prediction \n",
    "* And Logisticregressor is very poor loan for pridiction "
   ]
  },
  {
   "cell_type": "code",
   "execution_count": null,
   "id": "bf23334b",
   "metadata": {},
   "outputs": [],
   "source": []
  }
 ],
 "metadata": {
  "kernelspec": {
   "display_name": "Python 3 (ipykernel)",
   "language": "python",
   "name": "python3"
  },
  "language_info": {
   "codemirror_mode": {
    "name": "ipython",
    "version": 3
   },
   "file_extension": ".py",
   "mimetype": "text/x-python",
   "name": "python",
   "nbconvert_exporter": "python",
   "pygments_lexer": "ipython3",
   "version": "3.9.12"
  }
 },
 "nbformat": 4,
 "nbformat_minor": 5
}
